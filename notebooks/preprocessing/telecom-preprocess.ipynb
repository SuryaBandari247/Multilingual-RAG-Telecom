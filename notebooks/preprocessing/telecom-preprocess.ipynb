{
 "cells": [
  {
   "cell_type": "markdown",
   "metadata": {},
   "source": [
    "# Telecom Data Preprocessing Pipeline\n",
    "\n",
    "This notebook processes telecom conversation data to create a multilingual dataset for RAG applications. The pipeline transforms ~60K English conversations into a balanced multilingual corpus across 4 languages.\n",
    "\n",
    "## Pipeline Stages:\n",
    "1. **Topic Filtering** - Select balanced samples from BERTopic-categorized conversations, prioritizing network and customer service issues\n",
    "2. **Translation** - Batch translate conversations to German (DEU), French (FRA), and Italian (ITA) using Google Translate API\n",
    "3. **Named Entity Recognition** - Clean sensitive information by replacing names, locations, and numbers with generic tokens (PER, LOC, NUM)\n",
    "   - Technical Methods - Specifies BERTopic categorization\n",
    "4. **Data Analysis** - Visualize final topic distribution and language balance for model training\n",
    "\n",
    "**Output**: Clean, anonymized multilingual dataset ready for vector embedding and RAG system training."
   ]
  },
  {
   "cell_type": "code",
   "execution_count": 32,
   "metadata": {
    "_cell_guid": "b1076dfc-b9ad-4769-8c92-a6c4dae69d19",
    "_uuid": "8f2839f25d086af736a60e9eeb907d3b93b6e0e5",
    "execution": {
     "iopub.execute_input": "2025-07-13T10:06:51.982248Z",
     "iopub.status.busy": "2025-07-13T10:06:51.981823Z",
     "iopub.status.idle": "2025-07-13T10:06:52.026582Z",
     "shell.execute_reply": "2025-07-13T10:06:52.025481Z",
     "shell.execute_reply.started": "2025-07-13T10:06:51.982217Z"
    },
    "trusted": true
   },
   "outputs": [
    {
     "name": "stdout",
     "output_type": "stream",
     "text": [
      "/kaggle/input/telecom-conversations-after-topic-modeling/topics.csv\n",
      "/kaggle/input/telecom-conversations-after-topic-modeling/aggregated_conversations_with_topicmodeling.csv\n",
      "/kaggle/input/combined-after-translation-csv/combined_after_translation.csv\n",
      "/kaggle/input/telecom-filtered-list/filtered_list.csv\n",
      "/kaggle/input/telecom-after-ner/after_ner.csv\n",
      "/kaggle/input/telecom/aggregated_conversations.csv\n",
      "/kaggle/input/telecom-train-set/train_df.csv\n"
     ]
    }
   ],
   "source": [
    "# This Python 3 environment comes with many helpful analytics libraries installed\n",
    "# It is defined by the kaggle/python Docker image: https://github.com/kaggle/docker-python\n",
    "# For example, here's several helpful packages to load\n",
    "\n",
    "import numpy as np # linear algebra\n",
    "import pandas as pd # data processing, CSV file I/O (e.g. pd.read_csv)\n",
    "\n",
    "# Input data files are available in the read-only \"../input/\" directory\n",
    "# For example, running this (by clicking run or pressing Shift+Enter) will list all files under the input directory\n",
    "\n",
    "import os\n",
    "for dirname, _, filenames in os.walk('/kaggle/input'):\n",
    "    for filename in filenames:\n",
    "        print(os.path.join(dirname, filename))\n",
    "\n",
    "# You can write up to 20GB to the current directory (/kaggle/working/) that gets preserved as output when you create a version using \"Save & Run All\" \n",
    "# You can also write temporary files to /kaggle/temp/, but they won't be saved outside of the current session"
   ]
  },
  {
   "cell_type": "code",
   "execution_count": 3,
   "metadata": {
    "execution": {
     "iopub.execute_input": "2025-07-13T09:48:49.364380Z",
     "iopub.status.busy": "2025-07-13T09:48:49.363873Z",
     "iopub.status.idle": "2025-07-13T09:48:49.369273Z",
     "shell.execute_reply": "2025-07-13T09:48:49.367829Z",
     "shell.execute_reply.started": "2025-07-13T09:48:49.364350Z"
    },
    "trusted": true
   },
   "outputs": [],
   "source": [
    "import pandas as pd"
   ]
  },
  {
   "cell_type": "code",
   "execution_count": 4,
   "metadata": {
    "execution": {
     "iopub.execute_input": "2025-07-13T09:48:50.316898Z",
     "iopub.status.busy": "2025-07-13T09:48:50.316482Z",
     "iopub.status.idle": "2025-07-13T09:49:01.557922Z",
     "shell.execute_reply": "2025-07-13T09:49:01.556353Z",
     "shell.execute_reply.started": "2025-07-13T09:48:50.316866Z"
    },
    "trusted": true
   },
   "outputs": [],
   "source": [
    "df_corpus =pd.read_csv(\"/kaggle/input/telecom-conversations-after-topic-modeling/aggregated_conversations_with_topicmodeling.csv\")\n",
    "df_counts = pd.read_csv(\"/kaggle/input/telecom-conversations-after-topic-modeling/topics.csv\")"
   ]
  },
  {
   "cell_type": "code",
   "execution_count": 5,
   "metadata": {
    "execution": {
     "iopub.execute_input": "2025-07-13T09:49:01.559630Z",
     "iopub.status.busy": "2025-07-13T09:49:01.559312Z",
     "iopub.status.idle": "2025-07-13T09:49:01.565498Z",
     "shell.execute_reply": "2025-07-13T09:49:01.564275Z",
     "shell.execute_reply.started": "2025-07-13T09:49:01.559602Z"
    },
    "trusted": true
   },
   "outputs": [],
   "source": [
    "df_counts.columns = ['Topic', 'count', 'count_to_filter', 'topic_label', 'Representation',\n",
    "       'Representative_Docs']"
   ]
  },
  {
   "cell_type": "code",
   "execution_count": 6,
   "metadata": {
    "execution": {
     "iopub.execute_input": "2025-07-13T09:49:01.567316Z",
     "iopub.status.busy": "2025-07-13T09:49:01.567034Z",
     "iopub.status.idle": "2025-07-13T09:49:01.614082Z",
     "shell.execute_reply": "2025-07-13T09:49:01.612797Z",
     "shell.execute_reply.started": "2025-07-13T09:49:01.567280Z"
    },
    "trusted": true
   },
   "outputs": [
    {
     "data": {
      "text/html": [
       "<div>\n",
       "<style scoped>\n",
       "    .dataframe tbody tr th:only-of-type {\n",
       "        vertical-align: middle;\n",
       "    }\n",
       "\n",
       "    .dataframe tbody tr th {\n",
       "        vertical-align: top;\n",
       "    }\n",
       "\n",
       "    .dataframe thead th {\n",
       "        text-align: right;\n",
       "    }\n",
       "</style>\n",
       "<table border=\"1\" class=\"dataframe\">\n",
       "  <thead>\n",
       "    <tr style=\"text-align: right;\">\n",
       "      <th></th>\n",
       "      <th>Topic</th>\n",
       "      <th>count</th>\n",
       "      <th>count_to_filter</th>\n",
       "      <th>topic_label</th>\n",
       "      <th>Representation</th>\n",
       "      <th>Representative_Docs</th>\n",
       "    </tr>\n",
       "  </thead>\n",
       "  <tbody>\n",
       "    <tr>\n",
       "      <th>0</th>\n",
       "      <td>-1</td>\n",
       "      <td>99634</td>\n",
       "      <td>26171</td>\n",
       "      <td>-1_plan_data_account_agent</td>\n",
       "      <td>['plan', 'data', 'account', 'agent', 'client',...</td>\n",
       "      <td>[\"agent: Thank you for calling Union Mobile. M...</td>\n",
       "    </tr>\n",
       "    <tr>\n",
       "      <th>1</th>\n",
       "      <td>0</td>\n",
       "      <td>11905</td>\n",
       "      <td>3127</td>\n",
       "      <td>0_devices_thermostat_smart_home</td>\n",
       "      <td>['devices', 'thermostat', 'smart', 'home', 'ne...</td>\n",
       "      <td>[\"agent: Good morning, thank you for calling U...</td>\n",
       "    </tr>\n",
       "    <tr>\n",
       "      <th>2</th>\n",
       "      <td>1</td>\n",
       "      <td>5571</td>\n",
       "      <td>1463</td>\n",
       "      <td>1_repair_damage_claim_insurance</td>\n",
       "      <td>['repair', 'damage', 'claim', 'insurance', 'po...</td>\n",
       "      <td>[\"agent: Thank you for calling Union Mobile, m...</td>\n",
       "    </tr>\n",
       "    <tr>\n",
       "      <th>3</th>\n",
       "      <td>2</td>\n",
       "      <td>5051</td>\n",
       "      <td>1326</td>\n",
       "      <td>2_international_trip_roaming_abroad</td>\n",
       "      <td>['international', 'trip', 'roaming', 'abroad',...</td>\n",
       "      <td>[\"agent: Hello! Welcome to Union Mobile. My na...</td>\n",
       "    </tr>\n",
       "    <tr>\n",
       "      <th>4</th>\n",
       "      <td>3</td>\n",
       "      <td>4290</td>\n",
       "      <td>1126</td>\n",
       "      <td>3_health_wearable_fitness_smartwatch</td>\n",
       "      <td>['health', 'wearable', 'fitness', 'smartwatch'...</td>\n",
       "      <td>['agent: Hello you for calling Union Mobile, m...</td>\n",
       "    </tr>\n",
       "  </tbody>\n",
       "</table>\n",
       "</div>"
      ],
      "text/plain": [
       "   Topic  count  count_to_filter                           topic_label  \\\n",
       "0     -1  99634            26171            -1_plan_data_account_agent   \n",
       "1      0  11905             3127       0_devices_thermostat_smart_home   \n",
       "2      1   5571             1463       1_repair_damage_claim_insurance   \n",
       "3      2   5051             1326   2_international_trip_roaming_abroad   \n",
       "4      3   4290             1126  3_health_wearable_fitness_smartwatch   \n",
       "\n",
       "                                      Representation  \\\n",
       "0  ['plan', 'data', 'account', 'agent', 'client',...   \n",
       "1  ['devices', 'thermostat', 'smart', 'home', 'ne...   \n",
       "2  ['repair', 'damage', 'claim', 'insurance', 'po...   \n",
       "3  ['international', 'trip', 'roaming', 'abroad',...   \n",
       "4  ['health', 'wearable', 'fitness', 'smartwatch'...   \n",
       "\n",
       "                                 Representative_Docs  \n",
       "0  [\"agent: Thank you for calling Union Mobile. M...  \n",
       "1  [\"agent: Good morning, thank you for calling U...  \n",
       "2  [\"agent: Thank you for calling Union Mobile, m...  \n",
       "3  [\"agent: Hello! Welcome to Union Mobile. My na...  \n",
       "4  ['agent: Hello you for calling Union Mobile, m...  "
      ]
     },
     "execution_count": 6,
     "metadata": {},
     "output_type": "execute_result"
    }
   ],
   "source": [
    "df_counts.head()"
   ]
  },
  {
   "cell_type": "code",
   "execution_count": 7,
   "metadata": {
    "execution": {
     "iopub.execute_input": "2025-07-13T09:49:01.615984Z",
     "iopub.status.busy": "2025-07-13T09:49:01.615640Z",
     "iopub.status.idle": "2025-07-13T09:49:01.623417Z",
     "shell.execute_reply": "2025-07-13T09:49:01.622060Z",
     "shell.execute_reply.started": "2025-07-13T09:49:01.615956Z"
    },
    "trusted": true
   },
   "outputs": [
    {
     "name": "stdout",
     "output_type": "stream",
     "text": [
      "60000\n"
     ]
    }
   ],
   "source": [
    "print(df_counts['count_to_filter'].sum())"
   ]
  },
  {
   "cell_type": "code",
   "execution_count": 8,
   "metadata": {
    "execution": {
     "iopub.execute_input": "2025-07-13T09:49:01.625001Z",
     "iopub.status.busy": "2025-07-13T09:49:01.624584Z",
     "iopub.status.idle": "2025-07-13T09:49:01.648651Z",
     "shell.execute_reply": "2025-07-13T09:49:01.647375Z",
     "shell.execute_reply.started": "2025-07-13T09:49:01.624963Z"
    },
    "trusted": true
   },
   "outputs": [
    {
     "name": "stdout",
     "output_type": "stream",
     "text": [
      "307\n"
     ]
    }
   ],
   "source": [
    "print(df_counts['topic_label'].value_counts().sum())"
   ]
  },
  {
   "cell_type": "code",
   "execution_count": 9,
   "metadata": {
    "execution": {
     "iopub.execute_input": "2025-07-13T09:49:01.650189Z",
     "iopub.status.busy": "2025-07-13T09:49:01.649837Z",
     "iopub.status.idle": "2025-07-13T09:49:01.681230Z",
     "shell.execute_reply": "2025-07-13T09:49:01.679885Z",
     "shell.execute_reply.started": "2025-07-13T09:49:01.650144Z"
    },
    "trusted": true
   },
   "outputs": [],
   "source": [
    "df_corpus_topics = pd.DataFrame(df_corpus['topic_label'].value_counts()).reset_index()\n",
    "df_corpus_topics.columns = ['topic_label', 'count']"
   ]
  },
  {
   "cell_type": "code",
   "execution_count": 10,
   "metadata": {
    "execution": {
     "iopub.execute_input": "2025-07-13T09:49:01.682763Z",
     "iopub.status.busy": "2025-07-13T09:49:01.682362Z",
     "iopub.status.idle": "2025-07-13T09:49:01.701553Z",
     "shell.execute_reply": "2025-07-13T09:49:01.700106Z",
     "shell.execute_reply.started": "2025-07-13T09:49:01.682721Z"
    },
    "trusted": true
   },
   "outputs": [],
   "source": [
    "# Normalize the count based on actual count to target number of records\n",
    "df_corpus_topics['filter_count'] = df_corpus_topics['count'].apply(lambda x : int((x/df_corpus.shape[0])* 60000))"
   ]
  },
  {
   "cell_type": "markdown",
   "metadata": {},
   "source": [
    "### Manually readjusting the filter count making sure most relevent topics good share of information"
   ]
  },
  {
   "cell_type": "code",
   "execution_count": 11,
   "metadata": {
    "execution": {
     "iopub.execute_input": "2025-07-13T09:49:14.331768Z",
     "iopub.status.busy": "2025-07-13T09:49:14.331410Z",
     "iopub.status.idle": "2025-07-13T09:49:14.342740Z",
     "shell.execute_reply": "2025-07-13T09:49:14.341338Z",
     "shell.execute_reply.started": "2025-07-13T09:49:14.331739Z"
    },
    "trusted": true
   },
   "outputs": [],
   "source": [
    "df_corpus_topics.loc[df_corpus_topics['topic_label'] == '0_devices_thermostat_smart_home','filter_count'] = 400\n",
    "df_corpus_topics.loc[df_corpus_topics['topic_label'] == '9_identity_unable_verify_match','filter_count'] = 100\n",
    "df_corpus_topics.loc[df_corpus_topics['topic_label'] == '12_digits_identity_credit_verify','filter_count'] = 50\n",
    "df_corpus_topics.loc[df_corpus_topics['topic_label'] == '2_repair_damage_claim_insurance','filter_count'] = 50\n",
    "df_corpus_topics.loc[df_corpus_topics['topic_label'] == '4_health_fitness_wearable_smartwatch','filter_count'] = 40\n",
    "df_corpus_topics.loc[df_corpus_topics['topic_label'] == '10_headphones_earbuds_pair_wireless','filter_count'] = 40\n",
    "df_corpus_topics.loc[df_corpus_topics['topic_label'] == '16_camera_lens_lenses_cleaning','filter_count'] = 30\n"
   ]
  },
  {
   "cell_type": "code",
   "execution_count": 12,
   "metadata": {
    "execution": {
     "iopub.execute_input": "2025-07-13T09:49:17.589513Z",
     "iopub.status.busy": "2025-07-13T09:49:17.589168Z",
     "iopub.status.idle": "2025-07-13T09:49:17.608521Z",
     "shell.execute_reply": "2025-07-13T09:49:17.607123Z",
     "shell.execute_reply.started": "2025-07-13T09:49:17.589487Z"
    },
    "trusted": true
   },
   "outputs": [
    {
     "data": {
      "text/html": [
       "<div>\n",
       "<style scoped>\n",
       "    .dataframe tbody tr th:only-of-type {\n",
       "        vertical-align: middle;\n",
       "    }\n",
       "\n",
       "    .dataframe tbody tr th {\n",
       "        vertical-align: top;\n",
       "    }\n",
       "\n",
       "    .dataframe thead th {\n",
       "        text-align: right;\n",
       "    }\n",
       "</style>\n",
       "<table border=\"1\" class=\"dataframe\">\n",
       "  <thead>\n",
       "    <tr style=\"text-align: right;\">\n",
       "      <th></th>\n",
       "      <th>topic_label</th>\n",
       "      <th>count</th>\n",
       "      <th>filter_count</th>\n",
       "    </tr>\n",
       "  </thead>\n",
       "  <tbody>\n",
       "    <tr>\n",
       "      <th>1</th>\n",
       "      <td>1_international_trip_roaming_abroad</td>\n",
       "      <td>9822</td>\n",
       "      <td>2580</td>\n",
       "    </tr>\n",
       "    <tr>\n",
       "      <th>3</th>\n",
       "      <td>6_10gb_plan_current_unlimited</td>\n",
       "      <td>6765</td>\n",
       "      <td>1777</td>\n",
       "    </tr>\n",
       "    <tr>\n",
       "      <th>6</th>\n",
       "      <td>3_area_slow_speeds_network</td>\n",
       "      <td>5689</td>\n",
       "      <td>1494</td>\n",
       "    </tr>\n",
       "    <tr>\n",
       "      <th>7</th>\n",
       "      <td>18_usage_limit_data_videos</td>\n",
       "      <td>4854</td>\n",
       "      <td>1275</td>\n",
       "    </tr>\n",
       "    <tr>\n",
       "      <th>9</th>\n",
       "      <td>17_roaming_international_abroad_sim</td>\n",
       "      <td>3539</td>\n",
       "      <td>929</td>\n",
       "    </tr>\n",
       "    <tr>\n",
       "      <th>10</th>\n",
       "      <td>5_vpn_server_connect_connection</td>\n",
       "      <td>3482</td>\n",
       "      <td>914</td>\n",
       "    </tr>\n",
       "    <tr>\n",
       "      <th>16</th>\n",
       "      <td>13_hotspot_laptop_tethering_connecting</td>\n",
       "      <td>2499</td>\n",
       "      <td>656</td>\n",
       "    </tr>\n",
       "    <tr>\n",
       "      <th>19</th>\n",
       "      <td>39_streaming_buffering_video_stream</td>\n",
       "      <td>1861</td>\n",
       "      <td>488</td>\n",
       "    </tr>\n",
       "    <tr>\n",
       "      <th>20</th>\n",
       "      <td>42_charge_refund_dispute_charged</td>\n",
       "      <td>1855</td>\n",
       "      <td>487</td>\n",
       "    </tr>\n",
       "    <tr>\n",
       "      <th>24</th>\n",
       "      <td>19_messaging_messages_app_sending</td>\n",
       "      <td>1572</td>\n",
       "      <td>412</td>\n",
       "    </tr>\n",
       "    <tr>\n",
       "      <th>33</th>\n",
       "      <td>34_payment_payments_pay_automatic</td>\n",
       "      <td>1291</td>\n",
       "      <td>339</td>\n",
       "    </tr>\n",
       "    <tr>\n",
       "      <th>40</th>\n",
       "      <td>25_wi_fi_public_network</td>\n",
       "      <td>1212</td>\n",
       "      <td>318</td>\n",
       "    </tr>\n",
       "    <tr>\n",
       "      <th>41</th>\n",
       "      <td>79_charges_roaming_charged_abroad</td>\n",
       "      <td>1155</td>\n",
       "      <td>303</td>\n",
       "    </tr>\n",
       "    <tr>\n",
       "      <th>42</th>\n",
       "      <td>103_usage_alerts_limit_monitor</td>\n",
       "      <td>1144</td>\n",
       "      <td>300</td>\n",
       "    </tr>\n",
       "    <tr>\n",
       "      <th>43</th>\n",
       "      <td>109_internet_router_home_modem</td>\n",
       "      <td>1142</td>\n",
       "      <td>299</td>\n",
       "    </tr>\n",
       "    <tr>\n",
       "      <th>50</th>\n",
       "      <td>169_business_lines_unlimited_employees</td>\n",
       "      <td>1012</td>\n",
       "      <td>265</td>\n",
       "    </tr>\n",
       "    <tr>\n",
       "      <th>63</th>\n",
       "      <td>90_sim_card_new_replacement</td>\n",
       "      <td>799</td>\n",
       "      <td>209</td>\n",
       "    </tr>\n",
       "    <tr>\n",
       "      <th>79</th>\n",
       "      <td>104_mode_safe_factory_freezing</td>\n",
       "      <td>703</td>\n",
       "      <td>184</td>\n",
       "    </tr>\n",
       "    <tr>\n",
       "      <th>80</th>\n",
       "      <td>102_game_games_gaming_play</td>\n",
       "      <td>691</td>\n",
       "      <td>181</td>\n",
       "    </tr>\n",
       "    <tr>\n",
       "      <th>82</th>\n",
       "      <td>69_sync_automatic_syncing_contacts</td>\n",
       "      <td>683</td>\n",
       "      <td>179</td>\n",
       "    </tr>\n",
       "  </tbody>\n",
       "</table>\n",
       "</div>"
      ],
      "text/plain": [
       "                               topic_label  count  filter_count\n",
       "1      1_international_trip_roaming_abroad   9822          2580\n",
       "3            6_10gb_plan_current_unlimited   6765          1777\n",
       "6               3_area_slow_speeds_network   5689          1494\n",
       "7               18_usage_limit_data_videos   4854          1275\n",
       "9      17_roaming_international_abroad_sim   3539           929\n",
       "10         5_vpn_server_connect_connection   3482           914\n",
       "16  13_hotspot_laptop_tethering_connecting   2499           656\n",
       "19     39_streaming_buffering_video_stream   1861           488\n",
       "20        42_charge_refund_dispute_charged   1855           487\n",
       "24       19_messaging_messages_app_sending   1572           412\n",
       "33       34_payment_payments_pay_automatic   1291           339\n",
       "40                 25_wi_fi_public_network   1212           318\n",
       "41       79_charges_roaming_charged_abroad   1155           303\n",
       "42          103_usage_alerts_limit_monitor   1144           300\n",
       "43          109_internet_router_home_modem   1142           299\n",
       "50  169_business_lines_unlimited_employees   1012           265\n",
       "63             90_sim_card_new_replacement    799           209\n",
       "79          104_mode_safe_factory_freezing    703           184\n",
       "80              102_game_games_gaming_play    691           181\n",
       "82      69_sync_automatic_syncing_contacts    683           179"
      ]
     },
     "execution_count": 12,
     "metadata": {},
     "output_type": "execute_result"
    }
   ],
   "source": [
    "network_related_topics = [\n",
    "    '6_10gb_plan_current_unlimited',\n",
    "    '3_area_slow_speeds_network',\n",
    "    '5_vpn_server_connect_connection',\n",
    "    '13_hotspot_laptop_tethering_connecting',\n",
    "    '39_streaming_buffering_video_stream',\n",
    "    '103_usage_alerts_limit_monitor',\n",
    "    '109_internet_router_home_modem',\n",
    "    '25_wi_fi_public_network',\n",
    "    '104_mode_safe_factory_freezing',\n",
    "    '102_game_games_gaming_play',\n",
    "    '42_charge_refund_dispute_charged',\n",
    "    '90_sim_card_new_replacement',\n",
    "    '69_sync_automatic_syncing_contacts',\n",
    "    '1_international_trip_roaming_abroad',\n",
    "    '17_roaming_international_abroad_sim',\n",
    "    '79_charges_roaming_charged_abroad',\n",
    "    '19_messaging_messages_app_sending',\n",
    "    '34_payment_payments_pay_automatic',\n",
    "    '169_business_lines_unlimited_employees',\n",
    "    '18_usage_limit_data_videos'\n",
    "]\n",
    "\n",
    "\n",
    "df_corpus_topics.loc[df_corpus_topics['topic_label'].isin(network_related_topics)]"
   ]
  },
  {
   "cell_type": "code",
   "execution_count": 13,
   "metadata": {
    "execution": {
     "iopub.execute_input": "2025-07-13T09:49:25.547832Z",
     "iopub.status.busy": "2025-07-13T09:49:25.547418Z",
     "iopub.status.idle": "2025-07-13T09:49:25.558069Z",
     "shell.execute_reply": "2025-07-13T09:49:25.556918Z",
     "shell.execute_reply.started": "2025-07-13T09:49:25.547780Z"
    },
    "trusted": true
   },
   "outputs": [
    {
     "data": {
      "text/html": [
       "<div>\n",
       "<style scoped>\n",
       "    .dataframe tbody tr th:only-of-type {\n",
       "        vertical-align: middle;\n",
       "    }\n",
       "\n",
       "    .dataframe tbody tr th {\n",
       "        vertical-align: top;\n",
       "    }\n",
       "\n",
       "    .dataframe thead th {\n",
       "        text-align: right;\n",
       "    }\n",
       "</style>\n",
       "<table border=\"1\" class=\"dataframe\">\n",
       "  <thead>\n",
       "    <tr style=\"text-align: right;\">\n",
       "      <th></th>\n",
       "      <th>topic_label</th>\n",
       "      <th>count</th>\n",
       "      <th>filter_count</th>\n",
       "    </tr>\n",
       "  </thead>\n",
       "  <tbody>\n",
       "  </tbody>\n",
       "</table>\n",
       "</div>"
      ],
      "text/plain": [
       "Empty DataFrame\n",
       "Columns: [topic_label, count, filter_count]\n",
       "Index: []"
      ]
     },
     "execution_count": 13,
     "metadata": {},
     "output_type": "execute_result"
    }
   ],
   "source": [
    "customer_related_network_issues = [\n",
    "    '4_wifi_connection_problems',\n",
    "    '31_cell_reception_quality',\n",
    "    '32_network_outage_reports',\n",
    "    '33_dropped_calls_frequent',\n",
    "    '35_internet_speed_fluctuations',\n",
    "    '36_wifi_hotspot_access_failures',\n",
    "    '37_mobile_network_not_available',\n",
    "    '38_data_plan_billing_errors',\n",
    "    '40_network_equipment_failures',\n",
    "    '41_customer_service_response_time',\n",
    "    '43_voip_quality_issues',\n",
    "    '44_signal_interference_problems',\n",
    "    '45_network_synchronization_errors',\n",
    "    '46_online_gaming_latency',\n",
    "    '47_video_conferencing_disruptions',\n",
    "    '48_social_media_connectivity_issues',\n",
    "    '49_email_delivery_delays',\n",
    "    '50_device_compatibility_with_network',\n",
    "    '51_firmware_update_network_issues',\n",
    "    '52_network_coverage_blind_spots'\n",
    "]\n",
    "\n",
    "\n",
    "df_corpus_topics.loc[df_corpus_topics['topic_label'].isin(customer_related_network_issues)]"
   ]
  },
  {
   "cell_type": "code",
   "execution_count": 17,
   "metadata": {
    "execution": {
     "iopub.execute_input": "2025-07-13T09:51:24.526727Z",
     "iopub.status.busy": "2025-07-13T09:51:24.526294Z",
     "iopub.status.idle": "2025-07-13T09:51:24.537690Z",
     "shell.execute_reply": "2025-07-13T09:51:24.536227Z",
     "shell.execute_reply.started": "2025-07-13T09:51:24.526667Z"
    },
    "trusted": true
   },
   "outputs": [],
   "source": [
    "df_corpus_topics.loc[df_corpus_topics['topic_label'] == '0_devices_thermostat_smart_home','filter_count'] = 400\n",
    "df_corpus_topics.loc[df_corpus_topics['topic_label'] == '9_identity_unable_verify_match','filter_count'] = 400\n",
    "df_corpus_topics.loc[df_corpus_topics['topic_label'] == '12_digits_identity_credit_verify','filter_count'] = 50\n",
    "df_corpus_topics.loc[df_corpus_topics['topic_label'] == '2_repair_damage_claim_insurance','filter_count'] = 50\n",
    "df_corpus_topics.loc[df_corpus_topics['topic_label'] == '4_health_fitness_wearable_smartwatch','filter_count'] = 40\n",
    "df_corpus_topics.loc[df_corpus_topics['topic_label'] == '10_headphones_earbuds_pair_wireless','filter_count'] = 40\n",
    "df_corpus_topics.loc[df_corpus_topics['topic_label'] == '16_camera_lens_lenses_cleaning','filter_count'] = 30"
   ]
  },
  {
   "cell_type": "code",
   "execution_count": 18,
   "metadata": {
    "execution": {
     "iopub.execute_input": "2025-07-13T09:51:25.346345Z",
     "iopub.status.busy": "2025-07-13T09:51:25.346013Z",
     "iopub.status.idle": "2025-07-13T09:51:25.364563Z",
     "shell.execute_reply": "2025-07-13T09:51:25.363306Z",
     "shell.execute_reply.started": "2025-07-13T09:51:25.346313Z"
    },
    "trusted": true
   },
   "outputs": [],
   "source": [
    "df_corpus_topics.loc[df_corpus_topics['topic_label'] == '17_roaming_international_abroad_sim','filter_count'] = 1500\n",
    "df_corpus_topics.loc[df_corpus_topics['topic_label'] == '308_payment_recipient_transaction_sent','filter_count'] = 100\n",
    "df_corpus_topics.loc[df_corpus_topics['topic_label'] == '79_charges_roaming_charged_abroad','filter_count'] = 800\n",
    "df_corpus_topics.loc[df_corpus_topics['topic_label'] == '25_wi_fi_public_network','filter_count'] = 500\n",
    "df_corpus_topics.loc[df_corpus_topics['topic_label'] == '39_streaming_buffering_video_stream','filter_count'] = 800\n",
    "df_corpus_topics.loc[df_corpus_topics['topic_label'] == '109_internet_router_home_modem','filter_count'] = 800\n",
    "df_corpus_topics.loc[df_corpus_topics['topic_label'] == '103_usage_alerts_limit_monitor','filter_count'] = 600\n",
    "\n",
    "\n",
    "df_corpus_topics.loc[df_corpus_topics['topic_label'] == '42_charge_refund_dispute_charged','filter_count'] = 800\n",
    "df_corpus_topics.loc[df_corpus_topics['topic_label'] == '13_hotspot_laptop_tethering_connecting','filter_count'] = 800\n",
    "df_corpus_topics.loc[df_corpus_topics['topic_label'] == '90_sim_card_new_replacement','filter_count'] = 500\n",
    "df_corpus_topics.loc[df_corpus_topics['topic_label'] == '69_sync_automatic_syncing_contacts','filter_count'] = 400\n",
    "df_corpus_topics.loc[df_corpus_topics['topic_label'] == '169_business_lines_unlimited_employees','filter_count'] = 800\n",
    "df_corpus_topics.loc[df_corpus_topics['topic_label'] == '19_messaging_messages_app_sending','filter_count'] = 600\n",
    "df_corpus_topics.loc[df_corpus_topics['topic_label'] == '34_payment_payments_pay_automatic','filter_count'] = 600\n",
    "df_corpus_topics.loc[df_corpus_topics['topic_label'] == '3_area_slow_speeds_network','filter_count'] = 3743\n",
    "df_corpus_topics.loc[df_corpus_topics['topic_label'] == '18_usage_limit_data_videos','filter_count'] = 3000"
   ]
  },
  {
   "cell_type": "code",
   "execution_count": 21,
   "metadata": {
    "execution": {
     "iopub.execute_input": "2025-07-13T09:53:50.960995Z",
     "iopub.status.busy": "2025-07-13T09:53:50.960566Z",
     "iopub.status.idle": "2025-07-13T09:53:50.970834Z",
     "shell.execute_reply": "2025-07-13T09:53:50.969920Z",
     "shell.execute_reply.started": "2025-07-13T09:53:50.960961Z"
    },
    "trusted": true
   },
   "outputs": [
    {
     "data": {
      "text/html": [
       "<div>\n",
       "<style scoped>\n",
       "    .dataframe tbody tr th:only-of-type {\n",
       "        vertical-align: middle;\n",
       "    }\n",
       "\n",
       "    .dataframe tbody tr th {\n",
       "        vertical-align: top;\n",
       "    }\n",
       "\n",
       "    .dataframe thead th {\n",
       "        text-align: right;\n",
       "    }\n",
       "</style>\n",
       "<table border=\"1\" class=\"dataframe\">\n",
       "  <thead>\n",
       "    <tr style=\"text-align: right;\">\n",
       "      <th></th>\n",
       "      <th>topic_label</th>\n",
       "      <th>count</th>\n",
       "      <th>filter_count</th>\n",
       "    </tr>\n",
       "  </thead>\n",
       "  <tbody>\n",
       "    <tr>\n",
       "      <th>17</th>\n",
       "      <td>-1_plan_data_account_agent</td>\n",
       "      <td>2410</td>\n",
       "      <td>633</td>\n",
       "    </tr>\n",
       "  </tbody>\n",
       "</table>\n",
       "</div>"
      ],
      "text/plain": [
       "                   topic_label  count  filter_count\n",
       "17  -1_plan_data_account_agent   2410           633"
      ]
     },
     "execution_count": 21,
     "metadata": {},
     "output_type": "execute_result"
    }
   ],
   "source": [
    " df_corpus_topics[df_corpus_topics['topic_label'] == '-1_plan_data_account_agent']"
   ]
  },
  {
   "cell_type": "code",
   "execution_count": 22,
   "metadata": {
    "execution": {
     "iopub.execute_input": "2025-07-13T09:54:28.792480Z",
     "iopub.status.busy": "2025-07-13T09:54:28.792136Z",
     "iopub.status.idle": "2025-07-13T09:54:29.109479Z",
     "shell.execute_reply": "2025-07-13T09:54:29.108525Z",
     "shell.execute_reply.started": "2025-07-13T09:54:28.792455Z"
    },
    "trusted": true
   },
   "outputs": [],
   "source": [
    "df_merged = pd.merge(df_corpus, df_corpus_topics, on='topic_label', how='left')\n",
    "\n",
    "# Check if there are any NaN values in 'count_to_filter' column and handle them\n",
    "df_merged['filter_count'] = df_merged['filter_count'].fillna(0)\n",
    "# Convert 'count_to_filter' to int to avoid type mismatch (optional, based on your data type)\n",
    "df_merged['filter_count'] = df_merged['filter_count'].astype(int)\n",
    "\n",
    "# Sort based on 'topic_label' to ensure proper grouping.\n",
    "df_merged = df_merged.sort_values(by='topic_label')\n",
    "\n",
    "# Use cumcount to create a sequential count for each topic label.\n",
    "df_merged['cumcount'] = df_merged.groupby('topic_label').cumcount()\n",
    "\n",
    "# Filter the records where cumcount is less than the count_to_filter.\n",
    "# This will select the top N records for each topic label, where N is count_to_filter.\n",
    "df_filtered = df_merged[df_merged['cumcount'] < df_merged['filter_count']]\n",
    "\n",
    "# Drop the helper columns 'count_to_filter' and 'cumcount', as they are no longer needed.\n",
    "df_filtered = df_filtered.drop(columns=['filter_count', 'cumcount'])\n",
    "\n",
    "# Now df_filtered contains the records as per the specified counts in df_counts"
   ]
  },
  {
   "cell_type": "code",
   "execution_count": 23,
   "metadata": {
    "execution": {
     "iopub.execute_input": "2025-07-13T09:54:32.016298Z",
     "iopub.status.busy": "2025-07-13T09:54:32.015963Z",
     "iopub.status.idle": "2025-07-13T09:54:32.022437Z",
     "shell.execute_reply": "2025-07-13T09:54:32.021301Z",
     "shell.execute_reply.started": "2025-07-13T09:54:32.016272Z"
    },
    "trusted": true
   },
   "outputs": [
    {
     "data": {
      "text/plain": [
       "(59552, 4)"
      ]
     },
     "execution_count": 23,
     "metadata": {},
     "output_type": "execute_result"
    }
   ],
   "source": [
    "df_filtered.shape"
   ]
  },
  {
   "cell_type": "code",
   "execution_count": 24,
   "metadata": {
    "execution": {
     "iopub.execute_input": "2025-07-13T09:54:33.029661Z",
     "iopub.status.busy": "2025-07-13T09:54:33.029219Z",
     "iopub.status.idle": "2025-07-13T09:54:34.444126Z",
     "shell.execute_reply": "2025-07-13T09:54:34.442592Z",
     "shell.execute_reply.started": "2025-07-13T09:54:33.029625Z"
    },
    "trusted": true
   },
   "outputs": [
    {
     "data": {
      "image/png": "[encoded data removed]",
      "text/plain": [
       "<Figure size 1000x600 with 1 Axes>"
      ]
     },
     "metadata": {},
     "output_type": "display_data"
    }
   ],
   "source": [
    "import seaborn as sns\n",
    "import matplotlib.pyplot as plt\n",
    "\n",
    "# Get the top 15 topic labels by count\n",
    "top_topics = df_filtered['topic_label'].value_counts().nlargest(15).index\n",
    "\n",
    "# Filter df_filtered to include only the top 15 topics\n",
    "df_top_filtered = df_filtered[df_filtered['topic_label'].isin(top_topics)]\n",
    "\n",
    "# Plot the countplot\n",
    "plt.figure(figsize=(10, 6))\n",
    "sns.countplot(data=df_top_filtered, y='topic_label', order=top_topics)\n",
    "\n",
    "# Add title and labels\n",
    "plt.title('Top 15 Topics by Number of Selected Records')\n",
    "plt.xlabel('Count')\n",
    "plt.ylabel('Topic Label')\n",
    "plt.tight_layout()\n",
    "plt.show()\n"
   ]
  },
  {
   "cell_type": "code",
   "execution_count": 25,
   "metadata": {
    "execution": {
     "iopub.execute_input": "2025-07-13T09:54:45.850162Z",
     "iopub.status.busy": "2025-07-13T09:54:45.849520Z",
     "iopub.status.idle": "2025-07-13T09:54:45.861987Z",
     "shell.execute_reply": "2025-07-13T09:54:45.860601Z",
     "shell.execute_reply.started": "2025-07-13T09:54:45.850125Z"
    },
    "trusted": true
   },
   "outputs": [
    {
     "data": {
      "text/html": [
       "<div>\n",
       "<style scoped>\n",
       "    .dataframe tbody tr th:only-of-type {\n",
       "        vertical-align: middle;\n",
       "    }\n",
       "\n",
       "    .dataframe tbody tr th {\n",
       "        vertical-align: top;\n",
       "    }\n",
       "\n",
       "    .dataframe thead th {\n",
       "        text-align: right;\n",
       "    }\n",
       "</style>\n",
       "<table border=\"1\" class=\"dataframe\">\n",
       "  <thead>\n",
       "    <tr style=\"text-align: right;\">\n",
       "      <th></th>\n",
       "      <th>conversation_id</th>\n",
       "      <th>text</th>\n",
       "      <th>topic_label</th>\n",
       "      <th>count</th>\n",
       "    </tr>\n",
       "  </thead>\n",
       "  <tbody>\n",
       "    <tr>\n",
       "      <th>196207</th>\n",
       "      <td>c3838282f9cd46f7b18a8e502f47e262</td>\n",
       "      <td>agent: Hello, thank you for calling Union Mobi...</td>\n",
       "      <td>-1_plan_data_account_agent</td>\n",
       "      <td>2410</td>\n",
       "    </tr>\n",
       "    <tr>\n",
       "      <th>101592</th>\n",
       "      <td>a791c220b2504cfcb1669e4f07f7c160</td>\n",
       "      <td>agent: Good afternoon, thank you for calling U...</td>\n",
       "      <td>-1_plan_data_account_agent</td>\n",
       "      <td>2410</td>\n",
       "    </tr>\n",
       "    <tr>\n",
       "      <th>101594</th>\n",
       "      <td>1a0264d5a7e94cb8929829a5c1a97e85</td>\n",
       "      <td>agent: Thank you for calling Union Mobile, my ...</td>\n",
       "      <td>-1_plan_data_account_agent</td>\n",
       "      <td>2410</td>\n",
       "    </tr>\n",
       "    <tr>\n",
       "      <th>80541</th>\n",
       "      <td>ff85ddd97ad3402bbdb1db7740f008e3</td>\n",
       "      <td>agent: Good afternoon, thank you for calling U...</td>\n",
       "      <td>-1_plan_data_account_agent</td>\n",
       "      <td>2410</td>\n",
       "    </tr>\n",
       "    <tr>\n",
       "      <th>26599</th>\n",
       "      <td>13863e7b83394b7d8850ec4f7324fcb6</td>\n",
       "      <td>agent: Hello, thank you for calling Union Mobi...</td>\n",
       "      <td>-1_plan_data_account_agent</td>\n",
       "      <td>2410</td>\n",
       "    </tr>\n",
       "  </tbody>\n",
       "</table>\n",
       "</div>"
      ],
      "text/plain": [
       "                         conversation_id  \\\n",
       "196207  c3838282f9cd46f7b18a8e502f47e262   \n",
       "101592  a791c220b2504cfcb1669e4f07f7c160   \n",
       "101594  1a0264d5a7e94cb8929829a5c1a97e85   \n",
       "80541   ff85ddd97ad3402bbdb1db7740f008e3   \n",
       "26599   13863e7b83394b7d8850ec4f7324fcb6   \n",
       "\n",
       "                                                     text  \\\n",
       "196207  agent: Hello, thank you for calling Union Mobi...   \n",
       "101592  agent: Good afternoon, thank you for calling U...   \n",
       "101594  agent: Thank you for calling Union Mobile, my ...   \n",
       "80541   agent: Good afternoon, thank you for calling U...   \n",
       "26599   agent: Hello, thank you for calling Union Mobi...   \n",
       "\n",
       "                       topic_label  count  \n",
       "196207  -1_plan_data_account_agent   2410  \n",
       "101592  -1_plan_data_account_agent   2410  \n",
       "101594  -1_plan_data_account_agent   2410  \n",
       "80541   -1_plan_data_account_agent   2410  \n",
       "26599   -1_plan_data_account_agent   2410  "
      ]
     },
     "execution_count": 25,
     "metadata": {},
     "output_type": "execute_result"
    }
   ],
   "source": [
    "df_filtered.head()"
   ]
  },
  {
   "cell_type": "code",
   "execution_count": 26,
   "metadata": {
    "execution": {
     "iopub.execute_input": "2025-07-13T09:54:46.695502Z",
     "iopub.status.busy": "2025-07-13T09:54:46.695148Z",
     "iopub.status.idle": "2025-07-13T09:54:46.718818Z",
     "shell.execute_reply": "2025-07-13T09:54:46.717874Z",
     "shell.execute_reply.started": "2025-07-13T09:54:46.695471Z"
    },
    "trusted": true
   },
   "outputs": [],
   "source": [
    "df_shuffled = df_filtered.sample(frac=1).reset_index(drop=True)"
   ]
  },
  {
   "cell_type": "code",
   "execution_count": 27,
   "metadata": {
    "execution": {
     "iopub.execute_input": "2025-07-13T09:54:47.398336Z",
     "iopub.status.busy": "2025-07-13T09:54:47.397969Z",
     "iopub.status.idle": "2025-07-13T09:54:47.408339Z",
     "shell.execute_reply": "2025-07-13T09:54:47.407105Z",
     "shell.execute_reply.started": "2025-07-13T09:54:47.398307Z"
    },
    "trusted": true
   },
   "outputs": [
    {
     "data": {
      "text/html": [
       "<div>\n",
       "<style scoped>\n",
       "    .dataframe tbody tr th:only-of-type {\n",
       "        vertical-align: middle;\n",
       "    }\n",
       "\n",
       "    .dataframe tbody tr th {\n",
       "        vertical-align: top;\n",
       "    }\n",
       "\n",
       "    .dataframe thead th {\n",
       "        text-align: right;\n",
       "    }\n",
       "</style>\n",
       "<table border=\"1\" class=\"dataframe\">\n",
       "  <thead>\n",
       "    <tr style=\"text-align: right;\">\n",
       "      <th></th>\n",
       "      <th>conversation_id</th>\n",
       "      <th>text</th>\n",
       "      <th>topic_label</th>\n",
       "      <th>count</th>\n",
       "    </tr>\n",
       "  </thead>\n",
       "  <tbody>\n",
       "    <tr>\n",
       "      <th>0</th>\n",
       "      <td>000857604cf5412e9e0cabe5dd392cce</td>\n",
       "      <td>agent: Thank you for calling Union Mobile, my ...</td>\n",
       "      <td>224_cancel_cancellation_service_expensive</td>\n",
       "      <td>441</td>\n",
       "    </tr>\n",
       "    <tr>\n",
       "      <th>1</th>\n",
       "      <td>962ea94363aa4a799b18bd2902ffc67e</td>\n",
       "      <td>agent: Thank you for calling Union Mobile, my ...</td>\n",
       "      <td>26_security_protect_encryption_measures</td>\n",
       "      <td>1836</td>\n",
       "    </tr>\n",
       "    <tr>\n",
       "      <th>2</th>\n",
       "      <td>5b0edabeeee544b2ab379be39a6ff685</td>\n",
       "      <td>client: Hi, I'm calling to transfer my number ...</td>\n",
       "      <td>158_change_number_new_request</td>\n",
       "      <td>444</td>\n",
       "    </tr>\n",
       "    <tr>\n",
       "      <th>3</th>\n",
       "      <td>e1bcffda98df41fe80fbae02db10d587</td>\n",
       "      <td>agent: Hello, thank you for calling Union Mobi...</td>\n",
       "      <td>27_password_username_log_reset</td>\n",
       "      <td>3617</td>\n",
       "    </tr>\n",
       "    <tr>\n",
       "      <th>4</th>\n",
       "      <td>ee1a23b67dd14809b1d606641207d59d</td>\n",
       "      <td>agent: Hello, thank you for calling Union Mobi...</td>\n",
       "      <td>150_media_social_accounts_password</td>\n",
       "      <td>231</td>\n",
       "    </tr>\n",
       "  </tbody>\n",
       "</table>\n",
       "</div>"
      ],
      "text/plain": [
       "                    conversation_id  \\\n",
       "0  000857604cf5412e9e0cabe5dd392cce   \n",
       "1  962ea94363aa4a799b18bd2902ffc67e   \n",
       "2  5b0edabeeee544b2ab379be39a6ff685   \n",
       "3  e1bcffda98df41fe80fbae02db10d587   \n",
       "4  ee1a23b67dd14809b1d606641207d59d   \n",
       "\n",
       "                                                text  \\\n",
       "0  agent: Thank you for calling Union Mobile, my ...   \n",
       "1  agent: Thank you for calling Union Mobile, my ...   \n",
       "2  client: Hi, I'm calling to transfer my number ...   \n",
       "3  agent: Hello, thank you for calling Union Mobi...   \n",
       "4  agent: Hello, thank you for calling Union Mobi...   \n",
       "\n",
       "                                 topic_label  count  \n",
       "0  224_cancel_cancellation_service_expensive    441  \n",
       "1    26_security_protect_encryption_measures   1836  \n",
       "2              158_change_number_new_request    444  \n",
       "3             27_password_username_log_reset   3617  \n",
       "4         150_media_social_accounts_password    231  "
      ]
     },
     "execution_count": 27,
     "metadata": {},
     "output_type": "execute_result"
    }
   ],
   "source": [
    "df_shuffled.head()"
   ]
  },
  {
   "cell_type": "code",
   "execution_count": 28,
   "metadata": {
    "execution": {
     "iopub.execute_input": "2025-07-13T09:54:48.006782Z",
     "iopub.status.busy": "2025-07-13T09:54:48.006420Z",
     "iopub.status.idle": "2025-07-13T09:54:50.965581Z",
     "shell.execute_reply": "2025-07-13T09:54:50.964558Z",
     "shell.execute_reply.started": "2025-07-13T09:54:48.006753Z"
    },
    "trusted": true
   },
   "outputs": [],
   "source": [
    "df_shuffled.to_csv(\"/kaggle/working/filtered_list.csv\")"
   ]
  },
  {
   "cell_type": "code",
   "execution_count": null,
   "metadata": {
    "execution": {
     "iopub.execute_input": "2025-07-07T08:20:53.604751Z",
     "iopub.status.busy": "2025-07-07T08:20:53.604302Z",
     "iopub.status.idle": "2025-07-07T08:20:58.711132Z",
     "shell.execute_reply": "2025-07-07T08:20:58.709664Z",
     "shell.execute_reply.started": "2025-07-07T08:20:53.604715Z"
    },
    "trusted": true
   },
   "outputs": [],
   "source": [
    "import pandas as pd\n",
    "df_shuffled = pd.read_csv(\"/kaggle/input/telecom-filtered-list/filtered_list.csv\")"
   ]
  },
  {
   "cell_type": "markdown",
   "metadata": {},
   "source": [
    "# GoogleTrans"
   ]
  },
  {
   "cell_type": "code",
   "execution_count": null,
   "metadata": {
    "execution": {
     "iopub.execute_input": "2025-07-07T08:20:59.745211Z",
     "iopub.status.busy": "2025-07-07T08:20:59.744784Z",
     "iopub.status.idle": "2025-07-07T08:21:07.706667Z",
     "shell.execute_reply": "2025-07-07T08:21:07.704833Z",
     "shell.execute_reply.started": "2025-07-07T08:20:59.745174Z"
    },
    "trusted": true
   },
   "outputs": [],
   "source": [
    "pip install googletrans"
   ]
  },
  {
   "cell_type": "code",
   "execution_count": null,
   "metadata": {
    "execution": {
     "iopub.execute_input": "2025-07-07T08:21:15.682843Z",
     "iopub.status.busy": "2025-07-07T08:21:15.682326Z",
     "iopub.status.idle": "2025-07-07T08:21:16.001216Z",
     "shell.execute_reply": "2025-07-07T08:21:15.999571Z",
     "shell.execute_reply.started": "2025-07-07T08:21:15.682800Z"
    },
    "trusted": true
   },
   "outputs": [],
   "source": [
    "from googletrans import Translator\n",
    "import pandas as pd\n",
    "import asyncio\n",
    "\n",
    "# Define asynchronous translation function\n",
    "async def translate_column(df, src_lang, dest_lang):\n",
    "    translator = Translator(timeout=60)\n",
    "    for index, row in df.iterrows():\n",
    "        # Translate text asynchronously\n",
    "        #if not (row['Translated_Text']):\n",
    "        translated = await translator.translate(row['text'], src=src_lang, dest=dest_lang)\n",
    "        df.at[index, 'Translated_Text'] = translated.text\n",
    "    return df\n"
   ]
  },
  {
   "cell_type": "code",
   "execution_count": null,
   "metadata": {
    "execution": {
     "iopub.execute_input": "2025-07-07T08:21:19.027765Z",
     "iopub.status.busy": "2025-07-07T08:21:19.027050Z",
     "iopub.status.idle": "2025-07-07T08:21:19.034951Z",
     "shell.execute_reply": "2025-07-07T08:21:19.032696Z",
     "shell.execute_reply.started": "2025-07-07T08:21:19.027728Z"
    },
    "trusted": true
   },
   "outputs": [],
   "source": [
    "df_deu = df_shuffled.iloc[0:15001]\n",
    "df_fra = df_shuffled.iloc[15001:30001]\n",
    "df_ita = df_shuffled.iloc[30001:45001]\n",
    "df_enu = df_shuffled.iloc[45001:]"
   ]
  },
  {
   "cell_type": "code",
   "execution_count": null,
   "metadata": {
    "execution": {
     "iopub.execute_input": "2025-07-07T08:21:23.803079Z",
     "iopub.status.busy": "2025-07-07T08:21:23.802649Z",
     "iopub.status.idle": "2025-07-07T08:21:23.811824Z",
     "shell.execute_reply": "2025-07-07T08:21:23.810262Z",
     "shell.execute_reply.started": "2025-07-07T08:21:23.803044Z"
    },
    "trusted": true
   },
   "outputs": [],
   "source": [
    "df_deu_1 = df_shuffled.iloc[0:2000]\n",
    "\n",
    "# Second chunk from row 20001 to 25000\n",
    "df_deu_2 = df_shuffled.iloc[2000:4000]\n",
    "\n",
    "# Third chunk from row 25001 to 30000\n",
    "df_deu_3 = df_shuffled.iloc[4000:6000]\n",
    "\n",
    "df_deu_4 = df_shuffled.iloc[6000:8000]\n",
    "\n",
    "df_deu_5 = df_shuffled.iloc[8000:10000]\n",
    "\n",
    "df_deu_6 = df_shuffled.iloc[10000:12000]\n",
    "\n",
    "df_deu_7 = df_shuffled.iloc[12000:14000]\n",
    "\n",
    "df_deu_8 = df_shuffled.iloc[14000:15001]"
   ]
  },
  {
   "cell_type": "code",
   "execution_count": null,
   "metadata": {
    "execution": {
     "iopub.execute_input": "2025-07-07T08:21:26.106888Z",
     "iopub.status.busy": "2025-07-07T08:21:26.106424Z",
     "iopub.status.idle": "2025-07-07T08:21:26.114818Z",
     "shell.execute_reply": "2025-07-07T08:21:26.113116Z",
     "shell.execute_reply.started": "2025-07-07T08:21:26.106844Z"
    },
    "trusted": true
   },
   "outputs": [],
   "source": [
    "df_fra_1 = df_shuffled.iloc[15001:17000]\n",
    "\n",
    "df_fra_2 = df_shuffled.iloc[17000:19000]\n",
    "\n",
    "df_fra_3 = df_shuffled.iloc[19000:21000]\n",
    "\n",
    "df_fra_4 = df_shuffled.iloc[21000:23000]\n",
    "\n",
    "df_fra_5 = df_shuffled.iloc[23000:25000]\n",
    "\n",
    "df_fra_6 = df_shuffled.iloc[25000:27000]\n",
    "\n",
    "df_fra_7 = df_shuffled.iloc[27000:29000]\n",
    "\n",
    "df_fra_8 = df_shuffled.iloc[29000:30001]"
   ]
  },
  {
   "cell_type": "code",
   "execution_count": null,
   "metadata": {
    "execution": {
     "iopub.execute_input": "2025-07-07T08:21:28.358899Z",
     "iopub.status.busy": "2025-07-07T08:21:28.358468Z",
     "iopub.status.idle": "2025-07-07T08:21:28.367112Z",
     "shell.execute_reply": "2025-07-07T08:21:28.365559Z",
     "shell.execute_reply.started": "2025-07-07T08:21:28.358867Z"
    },
    "trusted": true
   },
   "outputs": [],
   "source": [
    "df_ita_1 = df_shuffled.iloc[30001:32000]\n",
    "\n",
    "df_ita_2 = df_shuffled.iloc[32000:34000]\n",
    "\n",
    "df_ita_3 = df_shuffled.iloc[34000:36000]\n",
    "\n",
    "df_ita_4 = df_shuffled.iloc[36000:38000]\n",
    "\n",
    "df_ita_5 = df_shuffled.iloc[38000:40000]\n",
    "\n",
    "df_ita_6 = df_shuffled.iloc[40000:42000]\n",
    "\n",
    "df_ita_7 = df_shuffled.iloc[42000:44000]\n",
    "\n",
    "df_ita_8 = df_shuffled.iloc[44000:45001]"
   ]
  },
  {
   "cell_type": "code",
   "execution_count": null,
   "metadata": {
    "execution": {
     "iopub.execute_input": "2025-07-07T08:21:35.806433Z",
     "iopub.status.busy": "2025-07-07T08:21:35.805982Z",
     "iopub.status.idle": "2025-07-07T08:21:35.814021Z",
     "shell.execute_reply": "2025-07-07T08:21:35.812582Z",
     "shell.execute_reply.started": "2025-07-07T08:21:35.806394Z"
    },
    "trusted": true
   },
   "outputs": [],
   "source": [
    "from googletrans import Translator\n",
    "import pandas as pd\n",
    "import asyncio\n",
    "\n",
    "# Define asynchronous translation function\n",
    "async def translate_column(df, src_lang, dest_lang):\n",
    "    translator = Translator(timeout=100)\n",
    "    total_records = len(df)\n",
    "    processed_records = 0\n",
    "    \n",
    "    for index, row in df.iterrows():\n",
    "        # Translate text asynchronously\n",
    "        translated = await translator.translate(row['text'], src=src_lang, dest=dest_lang)\n",
    "        df.at[index, 'Translated_Text'] = translated.text\n",
    "        \n",
    "        processed_records += 1\n",
    "        if processed_records % 100 == 0:\n",
    "            print(f\"Processed {processed_records}/{total_records} records\")\n",
    "        \n",
    "    print(f\"Total {processed_records}/{total_records} records processed\")\n",
    "    return df\n",
    "\n"
   ]
  },
  {
   "cell_type": "code",
   "execution_count": null,
   "metadata": {
    "execution": {
     "iopub.execute_input": "2025-07-06T20:06:52.574353Z",
     "iopub.status.busy": "2025-07-06T20:06:52.573869Z",
     "iopub.status.idle": "2025-07-06T20:32:51.920225Z",
     "shell.execute_reply": "2025-07-06T20:32:51.919096Z",
     "shell.execute_reply.started": "2025-07-06T20:06:52.574309Z"
    },
    "trusted": true
   },
   "outputs": [],
   "source": [
    "df_deu_translated_1 = await translate_column(df_deu_1, src_lang='en', dest_lang='de')\n",
    "print(df_deu_translated_1.head())\n",
    "df_deu_translated_1.to_csv('/kaggle/working/output_deu_1.csv', index=False)"
   ]
  },
  {
   "cell_type": "code",
   "execution_count": null,
   "metadata": {
    "execution": {
     "iopub.execute_input": "2025-07-06T20:32:51.921642Z",
     "iopub.status.busy": "2025-07-06T20:32:51.921269Z",
     "iopub.status.idle": "2025-07-06T20:57:55.666911Z",
     "shell.execute_reply": "2025-07-06T20:57:55.665622Z",
     "shell.execute_reply.started": "2025-07-06T20:32:51.921603Z"
    },
    "trusted": true
   },
   "outputs": [],
   "source": [
    "df_deu_translated_2 = await translate_column(df_deu_2, src_lang='en', dest_lang='de')\n",
    "print(df_deu_translated_2.head())\n",
    "df_deu_translated_2.to_csv('/kaggle/working/output_deu_2.csv', index=False)"
   ]
  },
  {
   "cell_type": "code",
   "execution_count": null,
   "metadata": {
    "execution": {
     "iopub.execute_input": "2025-07-06T20:57:55.668053Z",
     "iopub.status.busy": "2025-07-06T20:57:55.667761Z",
     "iopub.status.idle": "2025-07-06T21:22:55.541463Z",
     "shell.execute_reply": "2025-07-06T21:22:55.540226Z",
     "shell.execute_reply.started": "2025-07-06T20:57:55.668028Z"
    },
    "trusted": true
   },
   "outputs": [],
   "source": [
    "df_deu_translated_3 = await translate_column(df_deu_3, src_lang='en', dest_lang='de')\n",
    "print(df_deu_translated_3.head())\n",
    "df_deu_translated_3.to_csv('/kaggle/working/output_deu_3.csv', index=False)"
   ]
  },
  {
   "cell_type": "code",
   "execution_count": null,
   "metadata": {
    "execution": {
     "iopub.execute_input": "2025-07-06T21:22:55.542503Z",
     "iopub.status.busy": "2025-07-06T21:22:55.542274Z",
     "iopub.status.idle": "2025-07-06T21:47:33.978001Z",
     "shell.execute_reply": "2025-07-06T21:47:33.976741Z",
     "shell.execute_reply.started": "2025-07-06T21:22:55.542483Z"
    },
    "trusted": true
   },
   "outputs": [],
   "source": [
    "df_deu_translated_4 = await translate_column(df_deu_4, src_lang='en', dest_lang='de')\n",
    "df_deu_translated_4.to_csv('/kaggle/working/output_deu_4.csv', index=False)"
   ]
  },
  {
   "cell_type": "code",
   "execution_count": null,
   "metadata": {
    "execution": {
     "iopub.execute_input": "2025-07-06T21:47:33.979379Z",
     "iopub.status.busy": "2025-07-06T21:47:33.979052Z",
     "iopub.status.idle": "2025-07-06T22:19:29.112538Z",
     "shell.execute_reply": "2025-07-06T22:19:29.111282Z",
     "shell.execute_reply.started": "2025-07-06T21:47:33.979355Z"
    },
    "trusted": true
   },
   "outputs": [],
   "source": [
    "df_deu_translated_5 = await translate_column(df_deu_5, src_lang='en', dest_lang='de')\n",
    "\n",
    "df_deu_translated_5.to_csv('/kaggle/working/output_deu_5.csv', index=False)"
   ]
  },
  {
   "cell_type": "code",
   "execution_count": null,
   "metadata": {
    "execution": {
     "iopub.execute_input": "2025-07-06T22:19:29.113660Z",
     "iopub.status.busy": "2025-07-06T22:19:29.113402Z",
     "iopub.status.idle": "2025-07-06T22:56:03.820484Z",
     "shell.execute_reply": "2025-07-06T22:56:03.819084Z",
     "shell.execute_reply.started": "2025-07-06T22:19:29.113638Z"
    },
    "trusted": true
   },
   "outputs": [],
   "source": [
    "df_deu_translated_6 = await translate_column(df_deu_6, src_lang='en', dest_lang='de')\n",
    "print(df_deu_translated_6.head())\n",
    "df_deu_translated_6.to_csv('/kaggle/working/output_deu_6.csv', index=False)"
   ]
  },
  {
   "cell_type": "code",
   "execution_count": null,
   "metadata": {
    "execution": {
     "iopub.execute_input": "2025-07-06T22:56:03.821681Z",
     "iopub.status.busy": "2025-07-06T22:56:03.821393Z",
     "iopub.status.idle": "2025-07-06T23:33:12.916653Z",
     "shell.execute_reply": "2025-07-06T23:33:12.915491Z",
     "shell.execute_reply.started": "2025-07-06T22:56:03.821657Z"
    },
    "trusted": true
   },
   "outputs": [],
   "source": [
    "df_deu_translated_7 = await translate_column(df_deu_7, src_lang='en', dest_lang='de')\n",
    "print(df_deu_translated_7.head())\n",
    "df_deu_translated_7.to_csv('/kaggle/working/output_deu_7.csv', index=False)"
   ]
  },
  {
   "cell_type": "code",
   "execution_count": null,
   "metadata": {
    "execution": {
     "iopub.execute_input": "2025-07-06T23:33:12.918001Z",
     "iopub.status.busy": "2025-07-06T23:33:12.917674Z",
     "iopub.status.idle": "2025-07-06T23:51:13.248156Z",
     "shell.execute_reply": "2025-07-06T23:51:13.246738Z",
     "shell.execute_reply.started": "2025-07-06T23:33:12.917944Z"
    },
    "trusted": true
   },
   "outputs": [],
   "source": [
    "df_deu_translated_8 = await translate_column(df_deu_8, src_lang='en', dest_lang='de')\n",
    "print(df_deu_translated_8.head())\n",
    "df_deu_translated_8.to_csv('/kaggle/working/output_deu_8.csv', index=False)"
   ]
  },
  {
   "cell_type": "code",
   "execution_count": null,
   "metadata": {
    "execution": {
     "iopub.execute_input": "2025-07-06T23:51:13.249424Z",
     "iopub.status.busy": "2025-07-06T23:51:13.249101Z",
     "iopub.status.idle": "2025-07-07T00:27:29.087544Z",
     "shell.execute_reply": "2025-07-07T00:27:29.086368Z",
     "shell.execute_reply.started": "2025-07-06T23:51:13.249398Z"
    },
    "trusted": true
   },
   "outputs": [],
   "source": [
    "df_fra_translated_1 = await translate_column(df_fra_1, src_lang='en', dest_lang='fr')\n",
    "print(df_fra_translated_1.head())\n",
    "df_fra_translated_1.to_csv('/kaggle/working/output_fra_1.csv', index=False)"
   ]
  },
  {
   "cell_type": "code",
   "execution_count": null,
   "metadata": {
    "execution": {
     "iopub.execute_input": "2025-07-07T00:27:29.089032Z",
     "iopub.status.busy": "2025-07-07T00:27:29.088648Z",
     "iopub.status.idle": "2025-07-07T01:04:21.511160Z",
     "shell.execute_reply": "2025-07-07T01:04:21.509651Z",
     "shell.execute_reply.started": "2025-07-07T00:27:29.088996Z"
    },
    "trusted": true
   },
   "outputs": [],
   "source": [
    "df_fra_translated_2 = await translate_column(df_fra_2, src_lang='en', dest_lang='fr')\n",
    "print(df_fra_translated_2.head())\n",
    "df_fra_translated_2.to_csv('/kaggle/working/output_fra_2.csv', index=False)"
   ]
  },
  {
   "cell_type": "code",
   "execution_count": null,
   "metadata": {
    "execution": {
     "iopub.execute_input": "2025-07-07T01:04:21.512480Z",
     "iopub.status.busy": "2025-07-07T01:04:21.512165Z",
     "iopub.status.idle": "2025-07-07T01:41:20.225134Z",
     "shell.execute_reply": "2025-07-07T01:41:20.223862Z",
     "shell.execute_reply.started": "2025-07-07T01:04:21.512453Z"
    },
    "trusted": true
   },
   "outputs": [],
   "source": [
    "df_fra_translated_3 = await translate_column(df_fra_3, src_lang='en', dest_lang='fr')\n",
    "print(df_fra_translated_3.head())\n",
    "df_fra_translated_3.to_csv('/kaggle/working/output_fra_3.csv', index=False)"
   ]
  },
  {
   "cell_type": "code",
   "execution_count": null,
   "metadata": {
    "execution": {
     "iopub.execute_input": "2025-07-07T01:41:20.226408Z",
     "iopub.status.busy": "2025-07-07T01:41:20.226082Z",
     "iopub.status.idle": "2025-07-07T02:18:11.215625Z",
     "shell.execute_reply": "2025-07-07T02:18:11.214429Z",
     "shell.execute_reply.started": "2025-07-07T01:41:20.226361Z"
    },
    "trusted": true
   },
   "outputs": [],
   "source": [
    "df_fra_translated_4 = await translate_column(df_fra_4, src_lang='en', dest_lang='fr')\n",
    "df_fra_translated_4.to_csv('/kaggle/working/output_fra_4.csv', index=False)"
   ]
  },
  {
   "cell_type": "code",
   "execution_count": null,
   "metadata": {
    "execution": {
     "iopub.execute_input": "2025-07-07T02:18:11.216882Z",
     "iopub.status.busy": "2025-07-07T02:18:11.216555Z",
     "iopub.status.idle": "2025-07-07T02:55:53.704658Z",
     "shell.execute_reply": "2025-07-07T02:55:53.703521Z",
     "shell.execute_reply.started": "2025-07-07T02:18:11.216844Z"
    },
    "trusted": true
   },
   "outputs": [],
   "source": [
    "df_fra_translated_5 = await translate_column(df_fra_5, src_lang='en', dest_lang='fr')\n",
    "\n",
    "df_fra_translated_5.to_csv('/kaggle/working/output_fra_5.csv', index=False)"
   ]
  },
  {
   "cell_type": "code",
   "execution_count": null,
   "metadata": {
    "execution": {
     "iopub.execute_input": "2025-07-07T02:55:53.705697Z",
     "iopub.status.busy": "2025-07-07T02:55:53.705453Z",
     "iopub.status.idle": "2025-07-07T03:34:06.670595Z",
     "shell.execute_reply": "2025-07-07T03:34:06.669362Z",
     "shell.execute_reply.started": "2025-07-07T02:55:53.705676Z"
    },
    "trusted": true
   },
   "outputs": [],
   "source": [
    "df_fra_translated_6 = await translate_column(df_fra_6, src_lang='en', dest_lang='fr')\n",
    "print(df_fra_translated_6.head())\n",
    "df_fra_translated_6.to_csv('/kaggle/working/output_fra_6.csv', index=False)"
   ]
  },
  {
   "cell_type": "code",
   "execution_count": null,
   "metadata": {
    "execution": {
     "iopub.execute_input": "2025-07-07T03:34:06.671778Z",
     "iopub.status.busy": "2025-07-07T03:34:06.671453Z",
     "iopub.status.idle": "2025-07-07T04:08:52.716608Z",
     "shell.execute_reply": "2025-07-07T04:08:52.715423Z",
     "shell.execute_reply.started": "2025-07-07T03:34:06.671751Z"
    },
    "trusted": true
   },
   "outputs": [],
   "source": [
    "df_fra_translated_7 = await translate_column(df_fra_7, src_lang='en', dest_lang='fr')\n",
    "print(df_fra_translated_7.head())\n",
    "df_fra_translated_7.to_csv('/kaggle/working/output_fra_7.csv', index=False)"
   ]
  },
  {
   "cell_type": "code",
   "execution_count": null,
   "metadata": {
    "execution": {
     "iopub.execute_input": "2025-07-07T04:08:52.717951Z",
     "iopub.status.busy": "2025-07-07T04:08:52.717584Z",
     "iopub.status.idle": "2025-07-07T04:27:06.783548Z",
     "shell.execute_reply": "2025-07-07T04:27:06.782254Z",
     "shell.execute_reply.started": "2025-07-07T04:08:52.717916Z"
    },
    "trusted": true
   },
   "outputs": [],
   "source": [
    "df_fra_translated_8 = await translate_column(df_fra_8, src_lang='en', dest_lang='fr')\n",
    "print(df_fra_translated_8.head())\n",
    "df_fra_translated_8.to_csv('/kaggle/working/output_fra_8.csv', index=False)"
   ]
  },
  {
   "cell_type": "code",
   "execution_count": null,
   "metadata": {
    "execution": {
     "iopub.execute_input": "2025-07-07T04:27:06.785021Z",
     "iopub.status.busy": "2025-07-07T04:27:06.784712Z",
     "iopub.status.idle": "2025-07-07T05:04:56.826586Z",
     "shell.execute_reply": "2025-07-07T05:04:56.825160Z",
     "shell.execute_reply.started": "2025-07-07T04:27:06.784949Z"
    },
    "trusted": true
   },
   "outputs": [],
   "source": [
    "df_ita_translated_1 = await translate_column(df_ita_1, src_lang='en', dest_lang='it')\n",
    "print(df_ita_translated_1.head())\n",
    "df_ita_translated_1.to_csv('/kaggle/working/output_ita_1.csv', index=False)"
   ]
  },
  {
   "cell_type": "code",
   "execution_count": null,
   "metadata": {
    "execution": {
     "iopub.execute_input": "2025-07-07T05:04:56.828119Z",
     "iopub.status.busy": "2025-07-07T05:04:56.827703Z",
     "iopub.status.idle": "2025-07-07T05:43:24.351286Z",
     "shell.execute_reply": "2025-07-07T05:43:24.349810Z",
     "shell.execute_reply.started": "2025-07-07T05:04:56.828078Z"
    },
    "trusted": true
   },
   "outputs": [],
   "source": [
    "df_ita_translated_2 = await translate_column(df_ita_2, src_lang='en', dest_lang='it')\n",
    "print(df_ita_translated_2.head())\n",
    "df_ita_translated_2.to_csv('/kaggle/working/output_ita_2.csv', index=False)"
   ]
  },
  {
   "cell_type": "code",
   "execution_count": null,
   "metadata": {
    "execution": {
     "iopub.execute_input": "2025-07-07T05:43:24.352710Z",
     "iopub.status.busy": "2025-07-07T05:43:24.352292Z",
     "iopub.status.idle": "2025-07-07T06:21:11.189894Z",
     "shell.execute_reply": "2025-07-07T06:21:11.188466Z",
     "shell.execute_reply.started": "2025-07-07T05:43:24.352672Z"
    },
    "trusted": true
   },
   "outputs": [],
   "source": [
    "df_ita_translated_3 = await translate_column(df_ita_3, src_lang='en', dest_lang='it')\n",
    "print(df_ita_translated_3.head())\n",
    "df_ita_translated_3.to_csv('/kaggle/working/output_ita_3.csv', index=False)"
   ]
  },
  {
   "cell_type": "code",
   "execution_count": null,
   "metadata": {
    "execution": {
     "iopub.execute_input": "2025-07-07T06:21:11.191407Z",
     "iopub.status.busy": "2025-07-07T06:21:11.191006Z",
     "iopub.status.idle": "2025-07-07T06:58:51.076611Z",
     "shell.execute_reply": "2025-07-07T06:58:51.075353Z",
     "shell.execute_reply.started": "2025-07-07T06:21:11.191369Z"
    },
    "trusted": true
   },
   "outputs": [],
   "source": [
    "df_ita_translated_4 = await translate_column(df_ita_4, src_lang='en', dest_lang='it')\n",
    "df_ita_translated_4.to_csv('/kaggle/working/output_ita_4.csv', index=False)"
   ]
  },
  {
   "cell_type": "code",
   "execution_count": null,
   "metadata": {
    "execution": {
     "iopub.execute_input": "2025-07-07T06:58:51.078082Z",
     "iopub.status.busy": "2025-07-07T06:58:51.077679Z",
     "iopub.status.idle": "2025-07-07T07:34:42.832601Z",
     "shell.execute_reply": "2025-07-07T07:34:42.831399Z",
     "shell.execute_reply.started": "2025-07-07T06:58:51.078046Z"
    },
    "trusted": true
   },
   "outputs": [],
   "source": [
    "df_ita_translated_5 = await translate_column(df_ita_5, src_lang='en', dest_lang='it')\n",
    "\n",
    "df_ita_translated_5.to_csv('/kaggle/working/output_ita_5.csv', index=False)"
   ]
  },
  {
   "cell_type": "code",
   "execution_count": null,
   "metadata": {
    "execution": {
     "iopub.execute_input": "2025-07-07T08:22:04.586217Z",
     "iopub.status.busy": "2025-07-07T08:22:04.585632Z",
     "iopub.status.idle": "2025-07-07T08:40:08.452319Z",
     "shell.execute_reply": "2025-07-07T08:40:08.450753Z",
     "shell.execute_reply.started": "2025-07-07T08:22:04.586152Z"
    },
    "trusted": true
   },
   "outputs": [],
   "source": [
    "df_ita_translated_6 = await translate_column(df_ita_6, src_lang='en', dest_lang='it')\n",
    "print(df_ita_translated_6.head())\n",
    "df_ita_translated_6.to_csv('/kaggle/working/output_ita_6.csv', index=False)"
   ]
  },
  {
   "cell_type": "code",
   "execution_count": null,
   "metadata": {
    "execution": {
     "iopub.execute_input": "2025-07-07T08:40:08.453661Z",
     "iopub.status.busy": "2025-07-07T08:40:08.453290Z",
     "iopub.status.idle": "2025-07-07T09:13:37.850844Z",
     "shell.execute_reply": "2025-07-07T09:13:37.849312Z",
     "shell.execute_reply.started": "2025-07-07T08:40:08.453623Z"
    },
    "trusted": true
   },
   "outputs": [],
   "source": [
    "df_ita_translated_7 = await translate_column(df_ita_7, src_lang='en', dest_lang='it')\n",
    "print(df_ita_translated_7.head())\n",
    "df_ita_translated_7.to_csv('/kaggle/working/output_ita_7.csv', index=False)"
   ]
  },
  {
   "cell_type": "code",
   "execution_count": null,
   "metadata": {
    "execution": {
     "iopub.execute_input": "2025-07-07T09:13:37.852073Z",
     "iopub.status.busy": "2025-07-07T09:13:37.851734Z",
     "iopub.status.idle": "2025-07-07T09:31:16.661255Z",
     "shell.execute_reply": "2025-07-07T09:31:16.659465Z",
     "shell.execute_reply.started": "2025-07-07T09:13:37.852045Z"
    },
    "trusted": true
   },
   "outputs": [],
   "source": [
    "df_ita_translated_8 = await translate_column(df_ita_8, src_lang='en', dest_lang='it')\n",
    "print(df_ita_translated_8.head())\n",
    "df_ita_translated_8.to_csv('/kaggle/working/output_ita_8.csv', index=False)"
   ]
  },
  {
   "cell_type": "markdown",
   "metadata": {},
   "source": [
    "# Named entity recognition"
   ]
  },
  {
   "cell_type": "code",
   "execution_count": null,
   "metadata": {
    "execution": {
     "iopub.execute_input": "2025-07-12T17:03:04.790611Z",
     "iopub.status.busy": "2025-07-12T17:03:04.790268Z",
     "iopub.status.idle": "2025-07-12T17:03:08.173986Z",
     "shell.execute_reply": "2025-07-12T17:03:08.173088Z",
     "shell.execute_reply.started": "2025-07-12T17:03:04.790582Z"
    },
    "trusted": true
   },
   "outputs": [],
   "source": [
    "import pandas as pd\n",
    "import os\n",
    "\n",
    "# Assuming all CSV files are in the current working directory\n",
    "directory = os.getcwd()\n",
    "\n",
    "# Create an empty DataFrame to hold all the concatenated data\n",
    "master_df = pd.DataFrame()\n",
    "\n",
    "# List of prefixes for the types of files\n",
    "prefixes = ['deu', 'fra', 'ita']\n",
    "\n",
    "# Loop over the prefixes and numbers to read and concatenate the files\n",
    "for prefix in prefixes:\n",
    "    for i in range(1, 9): # Assuming the file numbers range from 1 to 8\n",
    "        # Construct the file name\n",
    "        file_name = f'self/output_{prefix}_{i}.csv'\n",
    "        # Construct the full file path\n",
    "        file_path = os.path.join(directory, file_name)\n",
    "        # Check if the file exists\n",
    "        if os.path.isfile(file_path):\n",
    "            # Read the current CSV file\n",
    "            current_df = pd.read_csv(file_path)\n",
    "            # Select only the relevant columns if there are more than the specified columns\n",
    "            current_df = current_df[['conversation_id', 'topic_label', 'Translated_Text']]\n",
    "            # Append the current DataFrame to the master DataFrame\n",
    "            master_df = pd.concat([master_df, current_df], ignore_index=True)\n",
    "            \n",
    "df_filtered_list = pd.read_csv(\"/kaggle/input/telecom-filtered-list/filtered_list.csv\")\n",
    "\n",
    "df_enu = df_filtered_list[45001:].rename(columns={'text': 'Translated_Text'})\n",
    "\n",
    "df_enu = df_enu[['conversation_id', 'topic_label', 'Translated_Text']]\n",
    "\n",
    "master_df = pd.concat([master_df, df_enu], ignore_index=True)\n",
    "\n",
    "\n",
    "# After the loop, master_df will contain all the data concatenated\n",
    "# You could check the combined dataframe structure\n",
    "print(master_df.head())\n",
    "\n",
    "# You can now use master_df for further analysis or save to a new CSV file\n",
    "master_df.to_csv('/kaggle/working/output_combined.csv', index=False)\n"
   ]
  },
  {
   "cell_type": "code",
   "execution_count": null,
   "metadata": {
    "execution": {
     "iopub.execute_input": "2025-07-07T09:46:11.377003Z",
     "iopub.status.busy": "2025-07-07T09:46:11.376603Z",
     "iopub.status.idle": "2025-07-07T09:46:36.578372Z",
     "shell.execute_reply": "2025-07-07T09:46:36.576896Z",
     "shell.execute_reply.started": "2025-07-07T09:46:11.376973Z"
    },
    "trusted": true
   },
   "outputs": [],
   "source": [
    "!pip install swifter\n",
    "!pip install --upgrade huggingface_hub\n",
    "!pip install transformers\n",
    "!pip install datasets==2.16.0"
   ]
  },
  {
   "cell_type": "code",
   "execution_count": null,
   "metadata": {
    "execution": {
     "iopub.execute_input": "2025-07-07T09:52:02.602956Z",
     "iopub.status.busy": "2025-07-07T09:52:02.602579Z",
     "iopub.status.idle": "2025-07-07T09:52:03.249455Z",
     "shell.execute_reply": "2025-07-07T09:52:03.247891Z",
     "shell.execute_reply.started": "2025-07-07T09:52:02.602929Z"
    },
    "trusted": true
   },
   "outputs": [],
   "source": [
    "from transformers import AutoTokenizer, AutoModelForTokenClassification\n",
    "from transformers import pipeline\n",
    "import re\n",
    "\n",
    "tokenizer = AutoTokenizer.from_pretrained(\"Babelscape/wikineural-multilingual-ner\", local_files_only=False)\n",
    "model = AutoModelForTokenClassification.from_pretrained(\"Babelscape/wikineural-multilingual-ner\", local_files_only=False)\n",
    "\n",
    "nlp = pipeline(\"ner\", model=model, tokenizer=tokenizer, grouped_entities=True)\n",
    "\n",
    "\n",
    "\n",
    "# Compile the regex pattern to replace numbers\n",
    "number_pattern = re.compile(r'\\d+(\\.\\d+)?')\n",
    "\n",
    "# Define the cleaning function\n",
    "def clean_text(text):\n",
    "    \n",
    "    # Run NER model once for each example\n",
    "    ner_results = nlp(text)\n",
    "    \n",
    "    # Replace detected person and location entities\n",
    "    for entity in ner_results:\n",
    "        if entity['entity_group'] == 'PER':\n",
    "            text = text.replace(entity['word'], 'PER')\n",
    "        elif entity['entity_group'] == 'LOC':\n",
    "            text = text.replace(entity['word'], 'LOC')\n",
    "    \n",
    "    # Replace all other numbers (excluding the customer care number)\n",
    "    text = number_pattern.sub('NUM', text)\n",
    "    return text"
   ]
  },
  {
   "cell_type": "code",
   "execution_count": null,
   "metadata": {
    "execution": {
     "iopub.execute_input": "2025-07-07T09:55:43.201036Z",
     "iopub.status.busy": "2025-07-07T09:55:43.200555Z",
     "iopub.status.idle": "2025-07-07T09:55:47.465208Z",
     "shell.execute_reply": "2025-07-07T09:55:47.464093Z",
     "shell.execute_reply.started": "2025-07-07T09:55:43.200998Z"
    },
    "trusted": true
   },
   "outputs": [],
   "source": [
    "data= pd.read_csv(\"/kaggle/input/combined-after-translation-csv/combined_after_translation.csv\")"
   ]
  },
  {
   "cell_type": "code",
   "execution_count": null,
   "metadata": {
    "execution": {
     "execution_failed": "2025-07-07T16:05:46.508Z",
     "iopub.execute_input": "2025-07-07T09:56:40.331234Z",
     "iopub.status.busy": "2025-07-07T09:56:40.330851Z"
    },
    "trusted": true
   },
   "outputs": [],
   "source": [
    "from datetime import datetime\n",
    "import swifter\n",
    "\n",
    "start_time = datetime.now()\n",
    "print(f\"Start Time: {start_time.strftime('%Y-%m-%d %H:%M:%S')}\")\n",
    "\n",
    "data['cleaned_text'] = data['Translated_Text'].swifter.apply(clean_text)\n",
    "\n",
    "finish_time = datetime.now()\n",
    "print(f\"\\nFinish Time: {finish_time.strftime('%Y-%m-%d %H:%M:%S')}\")\n",
    "\n",
    "# Calculate total processing time\n",
    "processing_time = finish_time - start_time\n",
    "print(f\"Total Processing Time: {processing_time}\")"
   ]
  },
  {
   "cell_type": "code",
   "execution_count": 29,
   "metadata": {
    "execution": {
     "iopub.execute_input": "2025-07-13T09:55:01.427346Z",
     "iopub.status.busy": "2025-07-13T09:55:01.427006Z",
     "iopub.status.idle": "2025-07-13T09:55:01.483406Z",
     "shell.execute_reply": "2025-07-13T09:55:01.482006Z",
     "shell.execute_reply.started": "2025-07-13T09:55:01.427320Z"
    },
    "trusted": true
   },
   "outputs": [
    {
     "ename": "NameError",
     "evalue": "name 'data' is not defined",
     "output_type": "error",
     "traceback": [
      "\u001b[0;31m---------------------------------------------------------------------------\u001b[0m",
      "\u001b[0;31mNameError\u001b[0m                                 Traceback (most recent call last)",
      "\u001b[0;32m<ipython-input-29-17d015a8cbfc>\u001b[0m in \u001b[0;36m<cell line: 1>\u001b[0;34m()\u001b[0m\n\u001b[0;32m----> 1\u001b[0;31m \u001b[0mdata\u001b[0m\u001b[0;34m.\u001b[0m\u001b[0mto_csv\u001b[0m\u001b[0;34m(\u001b[0m\u001b[0;34m\"/kaggle/working/after_ner.csv\"\u001b[0m\u001b[0;34m,\u001b[0m\u001b[0mindex\u001b[0m\u001b[0;34m=\u001b[0m\u001b[0;32mFalse\u001b[0m\u001b[0;34m)\u001b[0m\u001b[0;34m\u001b[0m\u001b[0;34m\u001b[0m\u001b[0m\n\u001b[0m",
      "\u001b[0;31mNameError\u001b[0m: name 'data' is not defined"
     ]
    }
   ],
   "source": [
    "data.to_csv(\"/kaggle/working/after_ner.csv\",index=False)"
   ]
  },
  {
   "cell_type": "code",
   "execution_count": 49,
   "metadata": {
    "execution": {
     "iopub.execute_input": "2025-07-13T10:29:14.815724Z",
     "iopub.status.busy": "2025-07-13T10:29:14.815331Z",
     "iopub.status.idle": "2025-07-13T10:29:19.027368Z",
     "shell.execute_reply": "2025-07-13T10:29:19.026314Z",
     "shell.execute_reply.started": "2025-07-13T10:29:14.815697Z"
    },
    "trusted": true
   },
   "outputs": [
    {
     "data": {
      "text/html": [
       "<div>\n",
       "<style scoped>\n",
       "    .dataframe tbody tr th:only-of-type {\n",
       "        vertical-align: middle;\n",
       "    }\n",
       "\n",
       "    .dataframe tbody tr th {\n",
       "        vertical-align: top;\n",
       "    }\n",
       "\n",
       "    .dataframe thead th {\n",
       "        text-align: right;\n",
       "    }\n",
       "</style>\n",
       "<table border=\"1\" class=\"dataframe\">\n",
       "  <thead>\n",
       "    <tr style=\"text-align: right;\">\n",
       "      <th></th>\n",
       "      <th>conversation_id</th>\n",
       "      <th>topic_label</th>\n",
       "      <th>Translated_Text</th>\n",
       "      <th>cleaned_text</th>\n",
       "    </tr>\n",
       "  </thead>\n",
       "  <tbody>\n",
       "    <tr>\n",
       "      <th>0</th>\n",
       "      <td>061c4d3f5b0d4bdcac7ccd4fae2cb8f0</td>\n",
       "      <td>6_10gb_plan_current_unlimited</td>\n",
       "      <td>Agent: Danke, dass Sie Union Mobile angerufen ...</td>\n",
       "      <td>Agent: Danke, dass Sie Union Mobile angerufen ...</td>\n",
       "    </tr>\n",
       "    <tr>\n",
       "      <th>1</th>\n",
       "      <td>5b7cd638d0644aa29b6f3b77e3318408</td>\n",
       "      <td>30_upgrade_camera_powerful_interested</td>\n",
       "      <td>Agent: Hallo, vielen Dank, dass Sie sich an Un...</td>\n",
       "      <td>Agent: Hallo, vielen Dank, dass Sie sich an Un...</td>\n",
       "    </tr>\n",
       "    <tr>\n",
       "      <th>2</th>\n",
       "      <td>3ce46dbc98b0473599b789a72d5bde0a</td>\n",
       "      <td>3_area_slow_speeds_network</td>\n",
       "      <td>Agent: Hallo, danke, dass du Union Mobile ange...</td>\n",
       "      <td>Agent: Hallo, danke, dass du Union Mobile ange...</td>\n",
       "    </tr>\n",
       "    <tr>\n",
       "      <th>3</th>\n",
       "      <td>990807d235434aa0a6dbbc7712c4dbd9</td>\n",
       "      <td>262_energy_thermostat_bills_temperature</td>\n",
       "      <td>Agent: Hallo, danke, dass du Union Mobile ange...</td>\n",
       "      <td>Agent: Hallo, danke, dass du Union Mobile ange...</td>\n",
       "    </tr>\n",
       "    <tr>\n",
       "      <th>4</th>\n",
       "      <td>456346e40db3452ca97dd120b0a12df2</td>\n",
       "      <td>240_collaboration_tools_conferencing_video</td>\n",
       "      <td>Agent: Hallo, danke, dass du Union Mobile ange...</td>\n",
       "      <td>Agent: Hallo, danke, dass du Union Mobile ange...</td>\n",
       "    </tr>\n",
       "  </tbody>\n",
       "</table>\n",
       "</div>"
      ],
      "text/plain": [
       "                    conversation_id  \\\n",
       "0  061c4d3f5b0d4bdcac7ccd4fae2cb8f0   \n",
       "1  5b7cd638d0644aa29b6f3b77e3318408   \n",
       "2  3ce46dbc98b0473599b789a72d5bde0a   \n",
       "3  990807d235434aa0a6dbbc7712c4dbd9   \n",
       "4  456346e40db3452ca97dd120b0a12df2   \n",
       "\n",
       "                                  topic_label  \\\n",
       "0               6_10gb_plan_current_unlimited   \n",
       "1       30_upgrade_camera_powerful_interested   \n",
       "2                  3_area_slow_speeds_network   \n",
       "3     262_energy_thermostat_bills_temperature   \n",
       "4  240_collaboration_tools_conferencing_video   \n",
       "\n",
       "                                     Translated_Text  \\\n",
       "0  Agent: Danke, dass Sie Union Mobile angerufen ...   \n",
       "1  Agent: Hallo, vielen Dank, dass Sie sich an Un...   \n",
       "2  Agent: Hallo, danke, dass du Union Mobile ange...   \n",
       "3  Agent: Hallo, danke, dass du Union Mobile ange...   \n",
       "4  Agent: Hallo, danke, dass du Union Mobile ange...   \n",
       "\n",
       "                                        cleaned_text  \n",
       "0  Agent: Danke, dass Sie Union Mobile angerufen ...  \n",
       "1  Agent: Hallo, vielen Dank, dass Sie sich an Un...  \n",
       "2  Agent: Hallo, danke, dass du Union Mobile ange...  \n",
       "3  Agent: Hallo, danke, dass du Union Mobile ange...  \n",
       "4  Agent: Hallo, danke, dass du Union Mobile ange...  "
      ]
     },
     "execution_count": 49,
     "metadata": {},
     "output_type": "execute_result"
    }
   ],
   "source": [
    "df_after_ner = pd.read_csv(\"/kaggle/input/telecom-after-ner/after_ner.csv\")\n",
    "\n",
    "df_after_ner.head()"
   ]
  },
  {
   "cell_type": "code",
   "execution_count": 51,
   "metadata": {
    "execution": {
     "iopub.execute_input": "2025-07-13T10:29:31.765797Z",
     "iopub.status.busy": "2025-07-13T10:29:31.765361Z",
     "iopub.status.idle": "2025-07-13T10:29:32.165228Z",
     "shell.execute_reply": "2025-07-13T10:29:32.164147Z",
     "shell.execute_reply.started": "2025-07-13T10:29:31.765763Z"
    },
    "trusted": true
   },
   "outputs": [
    {
     "data": {
      "image/png": "[encoded data removed]",
      "text/plain": [
       "<Figure size 1000x600 with 1 Axes>"
      ]
     },
     "metadata": {},
     "output_type": "display_data"
    }
   ],
   "source": [
    "import pandas as pd\n",
    "import seaborn as sns\n",
    "import matplotlib.pyplot as plt\n",
    "\n",
    "# Assuming your DataFrame is named df\n",
    "# Get top 15 categories by count\n",
    "top_15 = df_after_ner['topic_label'].value_counts().nlargest(15).index\n",
    "\n",
    "# Filter the dataframe for only those top 15\n",
    "filtered_df = df_after_ner[df_after_ner['topic_label'].isin(top_15)]\n",
    "\n",
    "# Plot\n",
    "plt.figure(figsize=(10, 6))\n",
    "sns.countplot(data=filtered_df, y='topic_label', order=filtered_df['topic_label'].value_counts().index)\n",
    "plt.title(\"Top 15 Topic Labels by Count\")\n",
    "plt.xlabel(\"Count\")\n",
    "plt.ylabel(\"Topic Label\")\n",
    "plt.tight_layout()\n",
    "plt.show()\n"
   ]
  },
  {
   "cell_type": "code",
   "execution_count": 33,
   "metadata": {
    "execution": {
     "iopub.execute_input": "2025-07-13T10:07:01.356760Z",
     "iopub.status.busy": "2025-07-13T10:07:01.356392Z",
     "iopub.status.idle": "2025-07-13T10:07:05.688992Z",
     "shell.execute_reply": "2025-07-13T10:07:05.687861Z",
     "shell.execute_reply.started": "2025-07-13T10:07:01.356730Z"
    },
    "trusted": true
   },
   "outputs": [
    {
     "data": {
      "text/html": [
       "<div>\n",
       "<style scoped>\n",
       "    .dataframe tbody tr th:only-of-type {\n",
       "        vertical-align: middle;\n",
       "    }\n",
       "\n",
       "    .dataframe tbody tr th {\n",
       "        vertical-align: top;\n",
       "    }\n",
       "\n",
       "    .dataframe thead th {\n",
       "        text-align: right;\n",
       "    }\n",
       "</style>\n",
       "<table border=\"1\" class=\"dataframe\">\n",
       "  <thead>\n",
       "    <tr style=\"text-align: right;\">\n",
       "      <th></th>\n",
       "      <th>conversation_id</th>\n",
       "      <th>topic_label</th>\n",
       "      <th>Translated_Text</th>\n",
       "      <th>cleaned_text</th>\n",
       "    </tr>\n",
       "  </thead>\n",
       "  <tbody>\n",
       "    <tr>\n",
       "      <th>0</th>\n",
       "      <td>061c4d3f5b0d4bdcac7ccd4fae2cb8f0</td>\n",
       "      <td>6_10gb_plan_current_unlimited</td>\n",
       "      <td>Agent: Danke, dass Sie Union Mobile angerufen ...</td>\n",
       "      <td>Agent: Danke, dass Sie Union Mobile angerufen ...</td>\n",
       "    </tr>\n",
       "    <tr>\n",
       "      <th>1</th>\n",
       "      <td>5b7cd638d0644aa29b6f3b77e3318408</td>\n",
       "      <td>30_upgrade_camera_powerful_interested</td>\n",
       "      <td>Agent: Hallo, vielen Dank, dass Sie sich an Un...</td>\n",
       "      <td>Agent: Hallo, vielen Dank, dass Sie sich an Un...</td>\n",
       "    </tr>\n",
       "    <tr>\n",
       "      <th>2</th>\n",
       "      <td>3ce46dbc98b0473599b789a72d5bde0a</td>\n",
       "      <td>3_area_slow_speeds_network</td>\n",
       "      <td>Agent: Hallo, danke, dass du Union Mobile ange...</td>\n",
       "      <td>Agent: Hallo, danke, dass du Union Mobile ange...</td>\n",
       "    </tr>\n",
       "    <tr>\n",
       "      <th>3</th>\n",
       "      <td>990807d235434aa0a6dbbc7712c4dbd9</td>\n",
       "      <td>262_energy_thermostat_bills_temperature</td>\n",
       "      <td>Agent: Hallo, danke, dass du Union Mobile ange...</td>\n",
       "      <td>Agent: Hallo, danke, dass du Union Mobile ange...</td>\n",
       "    </tr>\n",
       "    <tr>\n",
       "      <th>4</th>\n",
       "      <td>456346e40db3452ca97dd120b0a12df2</td>\n",
       "      <td>240_collaboration_tools_conferencing_video</td>\n",
       "      <td>Agent: Hallo, danke, dass du Union Mobile ange...</td>\n",
       "      <td>Agent: Hallo, danke, dass du Union Mobile ange...</td>\n",
       "    </tr>\n",
       "  </tbody>\n",
       "</table>\n",
       "</div>"
      ],
      "text/plain": [
       "                    conversation_id  \\\n",
       "0  061c4d3f5b0d4bdcac7ccd4fae2cb8f0   \n",
       "1  5b7cd638d0644aa29b6f3b77e3318408   \n",
       "2  3ce46dbc98b0473599b789a72d5bde0a   \n",
       "3  990807d235434aa0a6dbbc7712c4dbd9   \n",
       "4  456346e40db3452ca97dd120b0a12df2   \n",
       "\n",
       "                                  topic_label  \\\n",
       "0               6_10gb_plan_current_unlimited   \n",
       "1       30_upgrade_camera_powerful_interested   \n",
       "2                  3_area_slow_speeds_network   \n",
       "3     262_energy_thermostat_bills_temperature   \n",
       "4  240_collaboration_tools_conferencing_video   \n",
       "\n",
       "                                     Translated_Text  \\\n",
       "0  Agent: Danke, dass Sie Union Mobile angerufen ...   \n",
       "1  Agent: Hallo, vielen Dank, dass Sie sich an Un...   \n",
       "2  Agent: Hallo, danke, dass du Union Mobile ange...   \n",
       "3  Agent: Hallo, danke, dass du Union Mobile ange...   \n",
       "4  Agent: Hallo, danke, dass du Union Mobile ange...   \n",
       "\n",
       "                                        cleaned_text  \n",
       "0  Agent: Danke, dass Sie Union Mobile angerufen ...  \n",
       "1  Agent: Hallo, vielen Dank, dass Sie sich an Un...  \n",
       "2  Agent: Hallo, danke, dass du Union Mobile ange...  \n",
       "3  Agent: Hallo, danke, dass du Union Mobile ange...  \n",
       "4  Agent: Hallo, danke, dass du Union Mobile ange...  "
      ]
     },
     "execution_count": 33,
     "metadata": {},
     "output_type": "execute_result"
    }
   ],
   "source": [
    "df_after_ner = pd.read_csv(\"/kaggle/input/telecom-after-ner/after_ner.csv\")\n",
    "\n",
    "df_after_ner.head()"
   ]
  },
  {
   "cell_type": "code",
   "execution_count": 45,
   "metadata": {
    "execution": {
     "iopub.execute_input": "2025-07-13T10:22:06.578196Z",
     "iopub.status.busy": "2025-07-13T10:22:06.577819Z",
     "iopub.status.idle": "2025-07-13T10:22:07.867230Z",
     "shell.execute_reply": "2025-07-13T10:22:07.866003Z",
     "shell.execute_reply.started": "2025-07-13T10:22:06.578172Z"
    },
    "trusted": true
   },
   "outputs": [],
   "source": [
    "df_train = pd.read_csv(\"/kaggle/input/telecom-train-set/train_df.csv\")\n",
    "df_test = pd.read_csv(\"/kaggle/input/telecom-test-data/test_df.csv\")"
   ]
  },
  {
   "cell_type": "code",
   "execution_count": 39,
   "metadata": {
    "execution": {
     "iopub.execute_input": "2025-07-13T10:14:06.804217Z",
     "iopub.status.busy": "2025-07-13T10:14:06.803807Z",
     "iopub.status.idle": "2025-07-13T10:14:06.828653Z",
     "shell.execute_reply": "2025-07-13T10:14:06.827540Z",
     "shell.execute_reply.started": "2025-07-13T10:14:06.804187Z"
    },
    "trusted": true
   },
   "outputs": [
    {
     "data": {
      "text/html": [
       "<div>\n",
       "<style scoped>\n",
       "    .dataframe tbody tr th:only-of-type {\n",
       "        vertical-align: middle;\n",
       "    }\n",
       "\n",
       "    .dataframe tbody tr th {\n",
       "        vertical-align: top;\n",
       "    }\n",
       "\n",
       "    .dataframe thead th {\n",
       "        text-align: right;\n",
       "    }\n",
       "</style>\n",
       "<table border=\"1\" class=\"dataframe\">\n",
       "  <thead>\n",
       "    <tr style=\"text-align: right;\">\n",
       "      <th>language</th>\n",
       "      <th>deu</th>\n",
       "      <th>eng</th>\n",
       "      <th>fra</th>\n",
       "      <th>ita</th>\n",
       "    </tr>\n",
       "    <tr>\n",
       "      <th>topic_label</th>\n",
       "      <th></th>\n",
       "      <th></th>\n",
       "      <th></th>\n",
       "      <th></th>\n",
       "    </tr>\n",
       "  </thead>\n",
       "  <tbody>\n",
       "    <tr>\n",
       "      <th>3_area_slow_speeds_network</th>\n",
       "      <td>633</td>\n",
       "      <td>597</td>\n",
       "      <td>637</td>\n",
       "      <td>639</td>\n",
       "    </tr>\n",
       "    <tr>\n",
       "      <th>18_usage_limit_data_videos</th>\n",
       "      <td>523</td>\n",
       "      <td>519</td>\n",
       "      <td>497</td>\n",
       "      <td>487</td>\n",
       "    </tr>\n",
       "    <tr>\n",
       "      <th>1_international_trip_roaming_abroad</th>\n",
       "      <td>428</td>\n",
       "      <td>417</td>\n",
       "      <td>429</td>\n",
       "      <td>411</td>\n",
       "    </tr>\n",
       "    <tr>\n",
       "      <th>6_10gb_plan_current_unlimited</th>\n",
       "      <td>295</td>\n",
       "      <td>302</td>\n",
       "      <td>297</td>\n",
       "      <td>262</td>\n",
       "    </tr>\n",
       "    <tr>\n",
       "      <th>17_roaming_international_abroad_sim</th>\n",
       "      <td>253</td>\n",
       "      <td>248</td>\n",
       "      <td>250</td>\n",
       "      <td>242</td>\n",
       "    </tr>\n",
       "    <tr>\n",
       "      <th>27_password_username_log_reset</th>\n",
       "      <td>151</td>\n",
       "      <td>176</td>\n",
       "      <td>140</td>\n",
       "      <td>173</td>\n",
       "    </tr>\n",
       "    <tr>\n",
       "      <th>5_vpn_server_connect_connection</th>\n",
       "      <td>155</td>\n",
       "      <td>144</td>\n",
       "      <td>148</td>\n",
       "      <td>137</td>\n",
       "    </tr>\n",
       "    <tr>\n",
       "      <th>79_charges_roaming_charged_abroad</th>\n",
       "      <td>144</td>\n",
       "      <td>140</td>\n",
       "      <td>136</td>\n",
       "      <td>136</td>\n",
       "    </tr>\n",
       "    <tr>\n",
       "      <th>42_charge_refund_dispute_charged</th>\n",
       "      <td>138</td>\n",
       "      <td>112</td>\n",
       "      <td>155</td>\n",
       "      <td>133</td>\n",
       "    </tr>\n",
       "    <tr>\n",
       "      <th>13_hotspot_laptop_tethering_connecting</th>\n",
       "      <td>134</td>\n",
       "      <td>130</td>\n",
       "      <td>134</td>\n",
       "      <td>139</td>\n",
       "    </tr>\n",
       "    <tr>\n",
       "      <th>39_streaming_buffering_video_stream</th>\n",
       "      <td>125</td>\n",
       "      <td>126</td>\n",
       "      <td>152</td>\n",
       "      <td>134</td>\n",
       "    </tr>\n",
       "    <tr>\n",
       "      <th>169_business_lines_unlimited_employees</th>\n",
       "      <td>133</td>\n",
       "      <td>127</td>\n",
       "      <td>132</td>\n",
       "      <td>137</td>\n",
       "    </tr>\n",
       "    <tr>\n",
       "      <th>109_internet_router_home_modem</th>\n",
       "      <td>121</td>\n",
       "      <td>129</td>\n",
       "      <td>137</td>\n",
       "      <td>134</td>\n",
       "    </tr>\n",
       "    <tr>\n",
       "      <th>15_suspicious_malware_scan_activity</th>\n",
       "      <td>141</td>\n",
       "      <td>113</td>\n",
       "      <td>115</td>\n",
       "      <td>123</td>\n",
       "    </tr>\n",
       "    <tr>\n",
       "      <th>99_site_technician_appointment_miscommunication</th>\n",
       "      <td>125</td>\n",
       "      <td>124</td>\n",
       "      <td>121</td>\n",
       "      <td>117</td>\n",
       "    </tr>\n",
       "  </tbody>\n",
       "</table>\n",
       "</div>"
      ],
      "text/plain": [
       "language                                         deu  eng  fra  ita\n",
       "topic_label                                                        \n",
       "3_area_slow_speeds_network                       633  597  637  639\n",
       "18_usage_limit_data_videos                       523  519  497  487\n",
       "1_international_trip_roaming_abroad              428  417  429  411\n",
       "6_10gb_plan_current_unlimited                    295  302  297  262\n",
       "17_roaming_international_abroad_sim              253  248  250  242\n",
       "27_password_username_log_reset                   151  176  140  173\n",
       "5_vpn_server_connect_connection                  155  144  148  137\n",
       "79_charges_roaming_charged_abroad                144  140  136  136\n",
       "42_charge_refund_dispute_charged                 138  112  155  133\n",
       "13_hotspot_laptop_tethering_connecting           134  130  134  139\n",
       "39_streaming_buffering_video_stream              125  126  152  134\n",
       "169_business_lines_unlimited_employees           133  127  132  137\n",
       "109_internet_router_home_modem                   121  129  137  134\n",
       "15_suspicious_malware_scan_activity              141  113  115  123\n",
       "99_site_technician_appointment_miscommunication  125  124  121  117"
      ]
     },
     "execution_count": 39,
     "metadata": {},
     "output_type": "execute_result"
    }
   ],
   "source": [
    "# Group by 'topic_label' and 'language', count records\n",
    "count_comparison = df_train.groupby(['topic_label', 'language']).size().unstack(fill_value=0)\n",
    "\n",
    "# Add a total count column and sort by it\n",
    "count_comparison['total'] = count_comparison.sum(axis=1)\n",
    "top_15 = count_comparison.sort_values(by='total', ascending=False).head(15)\n",
    "\n",
    "# Drop the total column if only language-wise counts are needed\n",
    "top_15 = top_15.drop(columns='total')\n",
    "\n",
    "# Display the top 15 topic records\n",
    "top_15\n"
   ]
  },
  {
   "cell_type": "code",
   "execution_count": 47,
   "metadata": {
    "execution": {
     "iopub.execute_input": "2025-07-13T10:23:07.299409Z",
     "iopub.status.busy": "2025-07-13T10:23:07.298921Z",
     "iopub.status.idle": "2025-07-13T10:23:07.763140Z",
     "shell.execute_reply": "2025-07-13T10:23:07.762071Z",
     "shell.execute_reply.started": "2025-07-13T10:23:07.299374Z"
    },
    "trusted": true
   },
   "outputs": [
    {
     "data": {
      "image/png": "[encoded data removed]",
      "text/plain": [
       "<Figure size 800x600 with 2 Axes>"
      ]
     },
     "metadata": {},
     "output_type": "display_data"
    }
   ],
   "source": [
    "import seaborn as sns\n",
    "import matplotlib.pyplot as plt\n",
    "\n",
    "# Group by 'topic_label' and 'language', count records\n",
    "count_comparison = df_train.groupby(['topic_label', 'language']).size().unstack(fill_value=0)\n",
    "\n",
    "# Add total count column and get top 10 by total\n",
    "count_comparison['total'] = count_comparison.sum(axis=1)\n",
    "top_10 = count_comparison.sort_values(by='total', ascending=False).head(10)\n",
    "top_10 = top_10.drop(columns='total')\n",
    "\n",
    "# Plot heatmap\n",
    "plt.figure(figsize=(8, 6))\n",
    "sns.heatmap(top_10, annot=True, fmt=\"d\", cmap=\"YlGnBu\", linewidths=0.5)\n",
    "plt.title(\"Top 10 Topic Labels by Language - Train Set\")\n",
    "plt.ylabel(\"Topic Label\")\n",
    "plt.xlabel(\"Language\")\n",
    "plt.tight_layout()\n",
    "plt.show()\n"
   ]
  },
  {
   "cell_type": "code",
   "execution_count": 46,
   "metadata": {
    "execution": {
     "iopub.execute_input": "2025-07-13T10:22:14.927260Z",
     "iopub.status.busy": "2025-07-13T10:22:14.926831Z",
     "iopub.status.idle": "2025-07-13T10:22:14.954018Z",
     "shell.execute_reply": "2025-07-13T10:22:14.952551Z",
     "shell.execute_reply.started": "2025-07-13T10:22:14.927230Z"
    },
    "trusted": true
   },
   "outputs": [
    {
     "data": {
      "text/html": [
       "<div>\n",
       "<style scoped>\n",
       "    .dataframe tbody tr th:only-of-type {\n",
       "        vertical-align: middle;\n",
       "    }\n",
       "\n",
       "    .dataframe tbody tr th {\n",
       "        vertical-align: top;\n",
       "    }\n",
       "\n",
       "    .dataframe thead th {\n",
       "        text-align: right;\n",
       "    }\n",
       "</style>\n",
       "<table border=\"1\" class=\"dataframe\">\n",
       "  <thead>\n",
       "    <tr style=\"text-align: right;\">\n",
       "      <th>language</th>\n",
       "      <th>deu</th>\n",
       "      <th>eng</th>\n",
       "      <th>fra</th>\n",
       "      <th>ita</th>\n",
       "    </tr>\n",
       "    <tr>\n",
       "      <th>topic_label</th>\n",
       "      <th></th>\n",
       "      <th></th>\n",
       "      <th></th>\n",
       "      <th></th>\n",
       "    </tr>\n",
       "  </thead>\n",
       "  <tbody>\n",
       "    <tr>\n",
       "      <th>3_area_slow_speeds_network</th>\n",
       "      <td>3</td>\n",
       "      <td>7</td>\n",
       "      <td>7</td>\n",
       "      <td>7</td>\n",
       "    </tr>\n",
       "    <tr>\n",
       "      <th>18_usage_limit_data_videos</th>\n",
       "      <td>4</td>\n",
       "      <td>4</td>\n",
       "      <td>8</td>\n",
       "      <td>8</td>\n",
       "    </tr>\n",
       "    <tr>\n",
       "      <th>17_roaming_international_abroad_sim</th>\n",
       "      <td>2</td>\n",
       "      <td>4</td>\n",
       "      <td>1</td>\n",
       "      <td>7</td>\n",
       "    </tr>\n",
       "    <tr>\n",
       "      <th>1_international_trip_roaming_abroad</th>\n",
       "      <td>6</td>\n",
       "      <td>0</td>\n",
       "      <td>3</td>\n",
       "      <td>5</td>\n",
       "    </tr>\n",
       "    <tr>\n",
       "      <th>6_10gb_plan_current_unlimited</th>\n",
       "      <td>3</td>\n",
       "      <td>3</td>\n",
       "      <td>4</td>\n",
       "      <td>1</td>\n",
       "    </tr>\n",
       "    <tr>\n",
       "      <th>39_streaming_buffering_video_stream</th>\n",
       "      <td>2</td>\n",
       "      <td>4</td>\n",
       "      <td>1</td>\n",
       "      <td>0</td>\n",
       "    </tr>\n",
       "    <tr>\n",
       "      <th>55_coverage_cancellation_cancel_area</th>\n",
       "      <td>3</td>\n",
       "      <td>3</td>\n",
       "      <td>0</td>\n",
       "      <td>1</td>\n",
       "    </tr>\n",
       "    <tr>\n",
       "      <th>5_vpn_server_connect_connection</th>\n",
       "      <td>3</td>\n",
       "      <td>2</td>\n",
       "      <td>0</td>\n",
       "      <td>2</td>\n",
       "    </tr>\n",
       "    <tr>\n",
       "      <th>90_sim_card_new_replacement</th>\n",
       "      <td>2</td>\n",
       "      <td>1</td>\n",
       "      <td>4</td>\n",
       "      <td>0</td>\n",
       "    </tr>\n",
       "    <tr>\n",
       "      <th>27_password_username_log_reset</th>\n",
       "      <td>1</td>\n",
       "      <td>0</td>\n",
       "      <td>4</td>\n",
       "      <td>1</td>\n",
       "    </tr>\n",
       "    <tr>\n",
       "      <th>79_charges_roaming_charged_abroad</th>\n",
       "      <td>2</td>\n",
       "      <td>0</td>\n",
       "      <td>2</td>\n",
       "      <td>2</td>\n",
       "    </tr>\n",
       "    <tr>\n",
       "      <th>109_internet_router_home_modem</th>\n",
       "      <td>3</td>\n",
       "      <td>1</td>\n",
       "      <td>1</td>\n",
       "      <td>1</td>\n",
       "    </tr>\n",
       "    <tr>\n",
       "      <th>8_backup_restore_cloud_files</th>\n",
       "      <td>2</td>\n",
       "      <td>0</td>\n",
       "      <td>2</td>\n",
       "      <td>2</td>\n",
       "    </tr>\n",
       "    <tr>\n",
       "      <th>42_charge_refund_dispute_charged</th>\n",
       "      <td>2</td>\n",
       "      <td>1</td>\n",
       "      <td>0</td>\n",
       "      <td>2</td>\n",
       "    </tr>\n",
       "    <tr>\n",
       "      <th>99_site_technician_appointment_miscommunication</th>\n",
       "      <td>1</td>\n",
       "      <td>1</td>\n",
       "      <td>2</td>\n",
       "      <td>1</td>\n",
       "    </tr>\n",
       "  </tbody>\n",
       "</table>\n",
       "</div>"
      ],
      "text/plain": [
       "language                                         deu  eng  fra  ita\n",
       "topic_label                                                        \n",
       "3_area_slow_speeds_network                         3    7    7    7\n",
       "18_usage_limit_data_videos                         4    4    8    8\n",
       "17_roaming_international_abroad_sim                2    4    1    7\n",
       "1_international_trip_roaming_abroad                6    0    3    5\n",
       "6_10gb_plan_current_unlimited                      3    3    4    1\n",
       "39_streaming_buffering_video_stream                2    4    1    0\n",
       "55_coverage_cancellation_cancel_area               3    3    0    1\n",
       "5_vpn_server_connect_connection                    3    2    0    2\n",
       "90_sim_card_new_replacement                        2    1    4    0\n",
       "27_password_username_log_reset                     1    0    4    1\n",
       "79_charges_roaming_charged_abroad                  2    0    2    2\n",
       "109_internet_router_home_modem                     3    1    1    1\n",
       "8_backup_restore_cloud_files                       2    0    2    2\n",
       "42_charge_refund_dispute_charged                   2    1    0    2\n",
       "99_site_technician_appointment_miscommunication    1    1    2    1"
      ]
     },
     "execution_count": 46,
     "metadata": {},
     "output_type": "execute_result"
    }
   ],
   "source": [
    "# Group by 'topic_label' and 'language', count records\n",
    "count_comparison = df_test.groupby(['topic_label', 'language']).size().unstack(fill_value=0)\n",
    "\n",
    "# Add a total count column and sort by it\n",
    "count_comparison['total'] = count_comparison.sum(axis=1)\n",
    "top_15 = count_comparison.sort_values(by='total', ascending=False).head(15)\n",
    "\n",
    "# Drop the total column if only language-wise counts are needed\n",
    "top_15 = top_15.drop(columns='total')\n",
    "\n",
    "# Display the top 15 topic records\n",
    "top_15"
   ]
  },
  {
   "cell_type": "code",
   "execution_count": 48,
   "metadata": {
    "execution": {
     "iopub.execute_input": "2025-07-13T10:23:39.274037Z",
     "iopub.status.busy": "2025-07-13T10:23:39.273526Z",
     "iopub.status.idle": "2025-07-13T10:23:39.700950Z",
     "shell.execute_reply": "2025-07-13T10:23:39.699769Z",
     "shell.execute_reply.started": "2025-07-13T10:23:39.274005Z"
    },
    "trusted": true
   },
   "outputs": [
    {
     "data": {
      "image/png": "[encoded data removed]",
      "text/plain": [
       "<Figure size 800x600 with 2 Axes>"
      ]
     },
     "metadata": {},
     "output_type": "display_data"
    }
   ],
   "source": [
    "# Group by 'topic_label' and 'language', count records\n",
    "count_comparison = df_test.groupby(['topic_label', 'language']).size().unstack(fill_value=0)\n",
    "\n",
    "# Add total count column and get top 10 by total\n",
    "count_comparison['total'] = count_comparison.sum(axis=1)\n",
    "top_10 = count_comparison.sort_values(by='total', ascending=False).head(10)\n",
    "top_10 = top_10.drop(columns='total')\n",
    "\n",
    "# Plot heatmap\n",
    "plt.figure(figsize=(8, 6))\n",
    "sns.heatmap(top_10, annot=True, fmt=\"d\", cmap=\"YlGnBu\", linewidths=0.5)\n",
    "plt.title(\"Top 10 Topic Labels by Language - Test Set\")\n",
    "plt.ylabel(\"Topic Label\")\n",
    "plt.xlabel(\"Language\")\n",
    "plt.tight_layout()\n",
    "plt.show()"
   ]
  }
 ],
 "metadata": {
  "kaggle": {
   "accelerator": "none",
   "dataSources": [
    {
     "datasetId": 6556475,
     "sourceId": 10593245,
     "sourceType": "datasetVersion"
    },
    {
     "datasetId": 6560758,
     "sourceId": 10599503,
     "sourceType": "datasetVersion"
    },
    {
     "datasetId": 6561409,
     "sourceId": 10600356,
     "sourceType": "datasetVersion"
    },
    {
     "datasetId": 6581613,
     "sourceId": 10629727,
     "sourceType": "datasetVersion"
    },
    {
     "datasetId": 7818128,
     "sourceId": 12397797,
     "sourceType": "datasetVersion"
    },
    {
     "datasetId": 7855241,
     "sourceId": 12452646,
     "sourceType": "datasetVersion"
    }
   ],
   "dockerImageVersionId": 30839,
   "isGpuEnabled": false,
   "isInternetEnabled": true,
   "language": "python",
   "sourceType": "notebook"
  },
  "kernelspec": {
   "display_name": "Python 3",
   "language": "python",
   "name": "python3"
  },
  "language_info": {
   "codemirror_mode": {
    "name": "ipython",
    "version": 3
   },
   "file_extension": ".py",
   "mimetype": "text/x-python",
   "name": "python",
   "nbconvert_exporter": "python",
   "pygments_lexer": "ipython3",
   "version": "3.10.12"
  }
 },
 "nbformat": 4,
 "nbformat_minor": 4
}
